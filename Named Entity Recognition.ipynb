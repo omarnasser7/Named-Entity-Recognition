{
 "cells": [
  {
   "cell_type": "markdown",
   "id": "72f444de",
   "metadata": {
    "id": "72f444de",
    "papermill": {
     "duration": 0.050767,
     "end_time": "2022-01-15T16:42:42.462894",
     "exception": false,
     "start_time": "2022-01-15T16:42:42.412127",
     "status": "completed"
    },
    "tags": []
   },
   "source": [
    "# 1- Importing Libraries"
   ]
  },
  {
   "cell_type": "code",
   "execution_count": 4,
   "id": "7dJGeWtENlw9",
   "metadata": {
    "colab": {
     "base_uri": "https://localhost:8080/"
    },
    "id": "7dJGeWtENlw9",
    "outputId": "aace1d5b-e5d5-416a-fd13-dea857b6b269"
   },
   "outputs": [],
   "source": [
    "# from google.colab import drive\n",
    "# drive.mount('/content/drive')"
   ]
  },
  {
   "cell_type": "code",
   "execution_count": 5,
   "id": "6d29b90f",
   "metadata": {
    "execution": {
     "iopub.execute_input": "2022-01-15T16:42:42.577616Z",
     "iopub.status.busy": "2022-01-15T16:42:42.576957Z",
     "iopub.status.idle": "2022-01-15T16:42:47.085741Z",
     "shell.execute_reply": "2022-01-15T16:42:47.085022Z",
     "shell.execute_reply.started": "2022-01-15T16:28:01.937965Z"
    },
    "id": "6d29b90f",
    "papermill": {
     "duration": 4.571887,
     "end_time": "2022-01-15T16:42:47.085885",
     "exception": false,
     "start_time": "2022-01-15T16:42:42.513998",
     "status": "completed"
    },
    "tags": []
   },
   "outputs": [],
   "source": [
    "import numpy as np\n",
    "import pandas as pd\n",
    "import matplotlib.pyplot as plt\n",
    "import seaborn as sns\n",
    "import tensorflow as tf"
   ]
  },
  {
   "cell_type": "code",
   "execution_count": 6,
   "id": "c6296187",
   "metadata": {},
   "outputs": [
    {
     "name": "stdout",
     "output_type": "stream",
     "text": [
      "2.17.0\n",
      "3.6.0\n"
     ]
    }
   ],
   "source": [
    "import tensorflow as tf\n",
    "import keras\n",
    "print(tf.__version__)\n",
    "print(keras.__version__)"
   ]
  },
  {
   "cell_type": "markdown",
   "id": "ae0690e9",
   "metadata": {
    "id": "ae0690e9",
    "papermill": {
     "duration": 0.04543,
     "end_time": "2022-01-15T16:42:47.178564",
     "exception": false,
     "start_time": "2022-01-15T16:42:47.133134",
     "status": "completed"
    },
    "tags": []
   },
   "source": [
    "# 2- Importing Data"
   ]
  },
  {
   "cell_type": "code",
   "execution_count": 7,
   "id": "d23a6267",
   "metadata": {
    "colab": {
     "base_uri": "https://localhost:8080/",
     "height": 206
    },
    "execution": {
     "iopub.execute_input": "2022-01-15T16:42:47.276320Z",
     "iopub.status.busy": "2022-01-15T16:42:47.275592Z",
     "iopub.status.idle": "2022-01-15T16:42:48.286645Z",
     "shell.execute_reply": "2022-01-15T16:42:48.287116Z",
     "shell.execute_reply.started": "2022-01-15T16:28:06.529812Z"
    },
    "id": "d23a6267",
    "outputId": "26828b57-6239-4440-ec4f-10eb4271387f",
    "papermill": {
     "duration": 1.061963,
     "end_time": "2022-01-15T16:42:48.287257",
     "exception": false,
     "start_time": "2022-01-15T16:42:47.225294",
     "status": "completed"
    },
    "tags": []
   },
   "outputs": [
    {
     "name": "stderr",
     "output_type": "stream",
     "text": [
      "C:\\Users\\omar\\AppData\\Local\\Temp\\ipykernel_40832\\2896501579.py:3: FutureWarning: DataFrame.fillna with 'method' is deprecated and will raise in a future version. Use obj.ffill() or obj.bfill() instead.\n",
      "  data.fillna(method = 'ffill', inplace = True)\n"
     ]
    },
    {
     "data": {
      "text/html": [
       "<div>\n",
       "<style scoped>\n",
       "    .dataframe tbody tr th:only-of-type {\n",
       "        vertical-align: middle;\n",
       "    }\n",
       "\n",
       "    .dataframe tbody tr th {\n",
       "        vertical-align: top;\n",
       "    }\n",
       "\n",
       "    .dataframe thead th {\n",
       "        text-align: right;\n",
       "    }\n",
       "</style>\n",
       "<table border=\"1\" class=\"dataframe\">\n",
       "  <thead>\n",
       "    <tr style=\"text-align: right;\">\n",
       "      <th></th>\n",
       "      <th>Sentence #</th>\n",
       "      <th>Word</th>\n",
       "      <th>POS</th>\n",
       "      <th>Tag</th>\n",
       "    </tr>\n",
       "  </thead>\n",
       "  <tbody>\n",
       "    <tr>\n",
       "      <th>0</th>\n",
       "      <td>Sentence: 1</td>\n",
       "      <td>Thousands</td>\n",
       "      <td>NNS</td>\n",
       "      <td>O</td>\n",
       "    </tr>\n",
       "    <tr>\n",
       "      <th>1</th>\n",
       "      <td>Sentence: 1</td>\n",
       "      <td>of</td>\n",
       "      <td>IN</td>\n",
       "      <td>O</td>\n",
       "    </tr>\n",
       "    <tr>\n",
       "      <th>2</th>\n",
       "      <td>Sentence: 1</td>\n",
       "      <td>demonstrators</td>\n",
       "      <td>NNS</td>\n",
       "      <td>O</td>\n",
       "    </tr>\n",
       "    <tr>\n",
       "      <th>3</th>\n",
       "      <td>Sentence: 1</td>\n",
       "      <td>have</td>\n",
       "      <td>VBP</td>\n",
       "      <td>O</td>\n",
       "    </tr>\n",
       "    <tr>\n",
       "      <th>4</th>\n",
       "      <td>Sentence: 1</td>\n",
       "      <td>marched</td>\n",
       "      <td>VBN</td>\n",
       "      <td>O</td>\n",
       "    </tr>\n",
       "  </tbody>\n",
       "</table>\n",
       "</div>"
      ],
      "text/plain": [
       "    Sentence #           Word  POS Tag\n",
       "0  Sentence: 1      Thousands  NNS   O\n",
       "1  Sentence: 1             of   IN   O\n",
       "2  Sentence: 1  demonstrators  NNS   O\n",
       "3  Sentence: 1           have  VBP   O\n",
       "4  Sentence: 1        marched  VBN   O"
      ]
     },
     "execution_count": 7,
     "metadata": {},
     "output_type": "execute_result"
    }
   ],
   "source": [
    "\n",
    "data = pd.read_csv('ner_dataset.csv', encoding= 'unicode_escape')\n",
    "# filling the first column that determines which sentence each word belongs to.\n",
    "data.fillna(method = 'ffill', inplace = True)\n",
    "data.head()"
   ]
  },
  {
   "cell_type": "code",
   "execution_count": 8,
   "id": "e4b9b09f",
   "metadata": {
    "colab": {
     "base_uri": "https://localhost:8080/",
     "height": 206
    },
    "execution": {
     "iopub.execute_input": "2022-01-15T16:42:48.384190Z",
     "iopub.status.busy": "2022-01-15T16:42:48.383564Z",
     "iopub.status.idle": "2022-01-15T16:42:48.796869Z",
     "shell.execute_reply": "2022-01-15T16:42:48.797261Z",
     "shell.execute_reply.started": "2022-01-15T16:28:07.573812Z"
    },
    "id": "e4b9b09f",
    "outputId": "1de26957-acd6-48cb-874e-c6633556a77d",
    "papermill": {
     "duration": 0.463487,
     "end_time": "2022-01-15T16:42:48.797411",
     "exception": false,
     "start_time": "2022-01-15T16:42:48.333924",
     "status": "completed"
    },
    "tags": []
   },
   "outputs": [
    {
     "data": {
      "text/html": [
       "<div>\n",
       "<style scoped>\n",
       "    .dataframe tbody tr th:only-of-type {\n",
       "        vertical-align: middle;\n",
       "    }\n",
       "\n",
       "    .dataframe tbody tr th {\n",
       "        vertical-align: top;\n",
       "    }\n",
       "\n",
       "    .dataframe thead th {\n",
       "        text-align: right;\n",
       "    }\n",
       "</style>\n",
       "<table border=\"1\" class=\"dataframe\">\n",
       "  <thead>\n",
       "    <tr style=\"text-align: right;\">\n",
       "      <th></th>\n",
       "      <th>Sentence #</th>\n",
       "      <th>Sentence</th>\n",
       "      <th>POS</th>\n",
       "      <th>Tag</th>\n",
       "    </tr>\n",
       "  </thead>\n",
       "  <tbody>\n",
       "    <tr>\n",
       "      <th>0</th>\n",
       "      <td>Sentence: 1</td>\n",
       "      <td>Thousands of demonstrators have marched throug...</td>\n",
       "      <td>['NNS', 'IN', 'NNS', 'VBP', 'VBN', 'IN', 'NNP'...</td>\n",
       "      <td>['O', 'O', 'O', 'O', 'O', 'O', 'B-geo', 'O', '...</td>\n",
       "    </tr>\n",
       "    <tr>\n",
       "      <th>1</th>\n",
       "      <td>Sentence: 2</td>\n",
       "      <td>Families of soldiers killed in the conflict jo...</td>\n",
       "      <td>['NNS', 'IN', 'NNS', 'VBN', 'IN', 'DT', 'NN', ...</td>\n",
       "      <td>['O', 'O', 'O', 'O', 'O', 'O', 'O', 'O', 'O', ...</td>\n",
       "    </tr>\n",
       "    <tr>\n",
       "      <th>2</th>\n",
       "      <td>Sentence: 3</td>\n",
       "      <td>They marched from the Houses of Parliament to ...</td>\n",
       "      <td>['PRP', 'VBD', 'IN', 'DT', 'NNS', 'IN', 'NN', ...</td>\n",
       "      <td>['O', 'O', 'O', 'O', 'O', 'O', 'O', 'O', 'O', ...</td>\n",
       "    </tr>\n",
       "    <tr>\n",
       "      <th>3</th>\n",
       "      <td>Sentence: 4</td>\n",
       "      <td>Police put the number of marchers at 10,000 wh...</td>\n",
       "      <td>['NNS', 'VBD', 'DT', 'NN', 'IN', 'NNS', 'IN', ...</td>\n",
       "      <td>['O', 'O', 'O', 'O', 'O', 'O', 'O', 'O', 'O', ...</td>\n",
       "    </tr>\n",
       "    <tr>\n",
       "      <th>4</th>\n",
       "      <td>Sentence: 5</td>\n",
       "      <td>The protest comes on the eve of the annual con...</td>\n",
       "      <td>['DT', 'NN', 'VBZ', 'IN', 'DT', 'NN', 'IN', 'D...</td>\n",
       "      <td>['O', 'O', 'O', 'O', 'O', 'O', 'O', 'O', 'O', ...</td>\n",
       "    </tr>\n",
       "  </tbody>\n",
       "</table>\n",
       "</div>"
      ],
      "text/plain": [
       "    Sentence #                                           Sentence  \\\n",
       "0  Sentence: 1  Thousands of demonstrators have marched throug...   \n",
       "1  Sentence: 2  Families of soldiers killed in the conflict jo...   \n",
       "2  Sentence: 3  They marched from the Houses of Parliament to ...   \n",
       "3  Sentence: 4  Police put the number of marchers at 10,000 wh...   \n",
       "4  Sentence: 5  The protest comes on the eve of the annual con...   \n",
       "\n",
       "                                                 POS  \\\n",
       "0  ['NNS', 'IN', 'NNS', 'VBP', 'VBN', 'IN', 'NNP'...   \n",
       "1  ['NNS', 'IN', 'NNS', 'VBN', 'IN', 'DT', 'NN', ...   \n",
       "2  ['PRP', 'VBD', 'IN', 'DT', 'NNS', 'IN', 'NN', ...   \n",
       "3  ['NNS', 'VBD', 'DT', 'NN', 'IN', 'NNS', 'IN', ...   \n",
       "4  ['DT', 'NN', 'VBZ', 'IN', 'DT', 'NN', 'IN', 'D...   \n",
       "\n",
       "                                                 Tag  \n",
       "0  ['O', 'O', 'O', 'O', 'O', 'O', 'B-geo', 'O', '...  \n",
       "1  ['O', 'O', 'O', 'O', 'O', 'O', 'O', 'O', 'O', ...  \n",
       "2  ['O', 'O', 'O', 'O', 'O', 'O', 'O', 'O', 'O', ...  \n",
       "3  ['O', 'O', 'O', 'O', 'O', 'O', 'O', 'O', 'O', ...  \n",
       "4  ['O', 'O', 'O', 'O', 'O', 'O', 'O', 'O', 'O', ...  "
      ]
     },
     "execution_count": 8,
     "metadata": {},
     "output_type": "execute_result"
    }
   ],
   "source": [
    "ready_data = pd.read_csv('ner.csv')\n",
    "ready_data.head()\n"
   ]
  },
  {
   "cell_type": "markdown",
   "id": "5dfb7891",
   "metadata": {
    "id": "5dfb7891",
    "papermill": {
     "duration": 0.046486,
     "end_time": "2022-01-15T16:42:48.890950",
     "exception": false,
     "start_time": "2022-01-15T16:42:48.844464",
     "status": "completed"
    },
    "tags": []
   },
   "source": [
    "# 3- Get to know our data"
   ]
  },
  {
   "cell_type": "code",
   "execution_count": 9,
   "id": "528610cb",
   "metadata": {
    "execution": {
     "iopub.execute_input": "2022-01-15T16:42:48.991503Z",
     "iopub.status.busy": "2022-01-15T16:42:48.989858Z",
     "iopub.status.idle": "2022-01-15T16:42:48.992099Z",
     "shell.execute_reply": "2022-01-15T16:42:48.992514Z",
     "shell.execute_reply.started": "2022-01-15T16:28:08.026162Z"
    },
    "id": "528610cb",
    "papermill": {
     "duration": 0.054359,
     "end_time": "2022-01-15T16:42:48.992643",
     "exception": false,
     "start_time": "2022-01-15T16:42:48.938284",
     "status": "completed"
    },
    "tags": []
   },
   "outputs": [],
   "source": [
    "def join_a_sentence(sentence_number):\n",
    "\n",
    "    \"\"\"\n",
    "    Args.:\n",
    "          sentence_number: sentence number we want to join and return.\n",
    "\n",
    "    Returns:\n",
    "          The joined sentence.\n",
    "    \"\"\"\n",
    "\n",
    "    sentence_number = str(sentence_number)\n",
    "    the_sentence_words_list = list(data[data['Sentence #'] == 'Sentence: {}'.format(sentence_number)]['Word'])\n",
    "\n",
    "    return ' '.join(the_sentence_words_list)"
   ]
  },
  {
   "cell_type": "code",
   "execution_count": 73,
   "id": "da259761",
   "metadata": {
    "colab": {
     "base_uri": "https://localhost:8080/",
     "height": 53
    },
    "execution": {
     "iopub.execute_input": "2022-01-15T16:42:49.221566Z",
     "iopub.status.busy": "2022-01-15T16:42:49.220710Z",
     "iopub.status.idle": "2022-01-15T16:42:49.326834Z",
     "shell.execute_reply": "2022-01-15T16:42:49.327253Z",
     "shell.execute_reply.started": "2022-01-15T16:28:08.032687Z"
    },
    "id": "da259761",
    "outputId": "9f74aad9-ed98-4326-84a9-109c71cec7b1",
    "papermill": {
     "duration": 0.286664,
     "end_time": "2022-01-15T16:42:49.327409",
     "exception": false,
     "start_time": "2022-01-15T16:42:49.040745",
     "status": "completed"
    },
    "tags": []
   },
   "outputs": [
    {
     "data": {
      "text/plain": [
       "'Thousands of demonstrators have marched through London to protest the war in Iraq and demand the withdrawal of British troops from that country .'"
      ]
     },
     "execution_count": 73,
     "metadata": {},
     "output_type": "execute_result"
    }
   ],
   "source": [
    "join_a_sentence(sentence_number = 1)"
   ]
  },
  {
   "cell_type": "code",
   "execution_count": 11,
   "id": "c34f88e0",
   "metadata": {
    "colab": {
     "base_uri": "https://localhost:8080/",
     "height": 53
    },
    "execution": {
     "iopub.execute_input": "2022-01-15T16:42:49.551908Z",
     "iopub.status.busy": "2022-01-15T16:42:49.550576Z",
     "iopub.status.idle": "2022-01-15T16:42:49.555684Z",
     "shell.execute_reply": "2022-01-15T16:42:49.556119Z",
     "shell.execute_reply.started": "2022-01-15T16:28:08.275577Z"
    },
    "id": "c34f88e0",
    "outputId": "020a9d84-d10f-4111-ac3c-cde52d4c3f1c",
    "papermill": {
     "duration": 0.181562,
     "end_time": "2022-01-15T16:42:49.556268",
     "exception": false,
     "start_time": "2022-01-15T16:42:49.374706",
     "status": "completed"
    },
    "tags": []
   },
   "outputs": [
    {
     "data": {
      "text/plain": [
       "'Helicopter gunships Saturday pounded militant hideouts in the Orakzai tribal region , where many Taliban militants are believed to have fled to avoid an earlier military offensive in nearby South Waziristan .'"
      ]
     },
     "execution_count": 11,
     "metadata": {},
     "output_type": "execute_result"
    }
   ],
   "source": [
    "join_a_sentence(sentence_number = 100)"
   ]
  },
  {
   "cell_type": "code",
   "execution_count": 12,
   "id": "fc491c92",
   "metadata": {
    "colab": {
     "base_uri": "https://localhost:8080/"
    },
    "execution": {
     "iopub.execute_input": "2022-01-15T16:42:49.655583Z",
     "iopub.status.busy": "2022-01-15T16:42:49.654875Z",
     "iopub.status.idle": "2022-01-15T16:42:49.657580Z",
     "shell.execute_reply": "2022-01-15T16:42:49.657973Z",
     "shell.execute_reply.started": "2022-01-15T16:28:08.410521Z"
    },
    "id": "fc491c92",
    "outputId": "d330af81-075c-4f83-981a-c2f3301b2f60",
    "papermill": {
     "duration": 0.054488,
     "end_time": "2022-01-15T16:42:49.658112",
     "exception": false,
     "start_time": "2022-01-15T16:42:49.603624",
     "status": "completed"
    },
    "tags": []
   },
   "outputs": [
    {
     "data": {
      "text/plain": [
       "(1048575, 4)"
      ]
     },
     "execution_count": 12,
     "metadata": {},
     "output_type": "execute_result"
    }
   ],
   "source": [
    "# Data Shape\n",
    "data.shape"
   ]
  },
  {
   "cell_type": "code",
   "execution_count": 13,
   "id": "fea62ed0",
   "metadata": {
    "colab": {
     "base_uri": "https://localhost:8080/"
    },
    "execution": {
     "iopub.execute_input": "2022-01-15T16:42:49.757382Z",
     "iopub.status.busy": "2022-01-15T16:42:49.756473Z",
     "iopub.status.idle": "2022-01-15T16:42:51.052517Z",
     "shell.execute_reply": "2022-01-15T16:42:51.051882Z",
     "shell.execute_reply.started": "2022-01-15T16:28:08.418772Z"
    },
    "id": "fea62ed0",
    "outputId": "6f4cbf95-881a-42ac-ea07-3dd0fd3f495a",
    "papermill": {
     "duration": 1.3475,
     "end_time": "2022-01-15T16:42:51.052665",
     "exception": false,
     "start_time": "2022-01-15T16:42:49.705165",
     "status": "completed"
    },
    "tags": []
   },
   "outputs": [
    {
     "data": {
      "text/plain": [
       "47959"
      ]
     },
     "execution_count": 13,
     "metadata": {},
     "output_type": "execute_result"
    }
   ],
   "source": [
    "# Number of unique sentences\n",
    "len(np.unique(data['Sentence #']))"
   ]
  },
  {
   "cell_type": "code",
   "execution_count": 14,
   "id": "7ccc3ffd",
   "metadata": {
    "colab": {
     "base_uri": "https://localhost:8080/"
    },
    "execution": {
     "iopub.execute_input": "2022-01-15T16:42:51.216155Z",
     "iopub.status.busy": "2022-01-15T16:42:51.215231Z",
     "iopub.status.idle": "2022-01-15T16:42:51.341778Z",
     "shell.execute_reply": "2022-01-15T16:42:51.341301Z",
     "shell.execute_reply.started": "2022-01-15T16:28:09.739547Z"
    },
    "id": "7ccc3ffd",
    "outputId": "2baa245b-fa6e-43ea-b997-51cd7d5c3ce2",
    "papermill": {
     "duration": 0.24088,
     "end_time": "2022-01-15T16:42:51.341897",
     "exception": false,
     "start_time": "2022-01-15T16:42:51.101017",
     "status": "completed"
    },
    "tags": []
   },
   "outputs": [
    {
     "name": "stdout",
     "output_type": "stream",
     "text": [
      "Number of unique words in the dataset: 35177\n",
      "Number of unique tags in the dataset: 17\n"
     ]
    }
   ],
   "source": [
    "print(\"Number of unique words in the dataset: {}\".format(data.Word.nunique()))\n",
    "print(\"Number of unique tags in the dataset: {}\".format(data.Tag.nunique()))"
   ]
  },
  {
   "cell_type": "code",
   "execution_count": 15,
   "id": "b55b85da",
   "metadata": {
    "colab": {
     "base_uri": "https://localhost:8080/"
    },
    "execution": {
     "iopub.execute_input": "2022-01-15T16:42:51.500415Z",
     "iopub.status.busy": "2022-01-15T16:42:51.499667Z",
     "iopub.status.idle": "2022-01-15T16:42:51.517140Z",
     "shell.execute_reply": "2022-01-15T16:42:51.517936Z",
     "shell.execute_reply.started": "2022-01-15T16:28:09.936533Z"
    },
    "id": "b55b85da",
    "outputId": "ac5d29f2-6881-4826-e075-6eb56a69155f",
    "papermill": {
     "duration": 0.127008,
     "end_time": "2022-01-15T16:42:51.518106",
     "exception": false,
     "start_time": "2022-01-15T16:42:51.391098",
     "status": "completed"
    },
    "tags": []
   },
   "outputs": [
    {
     "data": {
      "text/plain": [
       "array(['O', 'B-geo', 'B-gpe', 'B-per', 'I-geo', 'B-org', 'I-org', 'B-tim',\n",
       "       'B-art', 'I-art', 'I-per', 'I-gpe', 'I-tim', 'B-nat', 'B-eve',\n",
       "       'I-eve', 'I-nat'], dtype=object)"
      ]
     },
     "execution_count": 15,
     "metadata": {},
     "output_type": "execute_result"
    }
   ],
   "source": [
    "tags = data.Tag.unique()\n",
    "tags"
   ]
  },
  {
   "cell_type": "code",
   "execution_count": 16,
   "id": "cd3084cb",
   "metadata": {
    "execution": {
     "iopub.execute_input": "2022-01-15T16:42:51.620734Z",
     "iopub.status.busy": "2022-01-15T16:42:51.619224Z",
     "iopub.status.idle": "2022-01-15T16:42:51.621402Z",
     "shell.execute_reply": "2022-01-15T16:42:51.621804Z",
     "shell.execute_reply.started": "2022-01-15T16:28:10.028347Z"
    },
    "id": "cd3084cb",
    "papermill": {
     "duration": 0.055316,
     "end_time": "2022-01-15T16:42:51.621928",
     "exception": false,
     "start_time": "2022-01-15T16:42:51.566612",
     "status": "completed"
    },
    "tags": []
   },
   "outputs": [],
   "source": [
    "def num_words_tags (tags, data):\n",
    "\n",
    "    \"\"\"This functions takes the tags we want to count and the datafram\n",
    "    and return a dict where the key is the tag and the value is the frequency\n",
    "    of that tag\"\"\"\n",
    "\n",
    "    tags_count = {}\n",
    "\n",
    "    for tag in tags:\n",
    "        len_tag = len(data[data['Tag'] == tag])\n",
    "        tags_count[tag] = len_tag\n",
    "\n",
    "    return tags_count"
   ]
  },
  {
   "cell_type": "code",
   "execution_count": 17,
   "id": "2a733a50",
   "metadata": {
    "colab": {
     "base_uri": "https://localhost:8080/"
    },
    "execution": {
     "iopub.execute_input": "2022-01-15T16:42:51.840859Z",
     "iopub.status.busy": "2022-01-15T16:42:51.839994Z",
     "iopub.status.idle": "2022-01-15T16:42:53.988241Z",
     "shell.execute_reply": "2022-01-15T16:42:53.987770Z",
     "shell.execute_reply.started": "2022-01-15T16:28:10.036827Z"
    },
    "id": "2a733a50",
    "outputId": "ffbee225-147d-4950-da63-185df3520a51",
    "papermill": {
     "duration": 2.318028,
     "end_time": "2022-01-15T16:42:53.988370",
     "exception": false,
     "start_time": "2022-01-15T16:42:51.670342",
     "status": "completed"
    },
    "tags": []
   },
   "outputs": [
    {
     "data": {
      "text/plain": [
       "{'O': 887908,\n",
       " 'B-geo': 37644,\n",
       " 'B-gpe': 15870,\n",
       " 'B-per': 16990,\n",
       " 'I-geo': 7414,\n",
       " 'B-org': 20143,\n",
       " 'I-org': 16784,\n",
       " 'B-tim': 20333,\n",
       " 'B-art': 402,\n",
       " 'I-art': 297,\n",
       " 'I-per': 17251,\n",
       " 'I-gpe': 198,\n",
       " 'I-tim': 6528,\n",
       " 'B-nat': 201,\n",
       " 'B-eve': 308,\n",
       " 'I-eve': 253,\n",
       " 'I-nat': 51}"
      ]
     },
     "execution_count": 17,
     "metadata": {},
     "output_type": "execute_result"
    }
   ],
   "source": [
    "tags_count = num_words_tags(tags, data)\n",
    "tags_count"
   ]
  },
  {
   "cell_type": "code",
   "execution_count": 18,
   "id": "3c711037",
   "metadata": {
    "colab": {
     "base_uri": "https://localhost:8080/",
     "height": 625
    },
    "execution": {
     "iopub.execute_input": "2022-01-15T16:42:54.099153Z",
     "iopub.status.busy": "2022-01-15T16:42:54.098425Z",
     "iopub.status.idle": "2022-01-15T16:42:55.397605Z",
     "shell.execute_reply": "2022-01-15T16:42:55.398046Z",
     "shell.execute_reply.started": "2022-01-15T16:28:12.332771Z"
    },
    "id": "3c711037",
    "outputId": "4a8c8b4e-7bfe-4d04-f7a7-632c972c5db5",
    "papermill": {
     "duration": 1.357564,
     "end_time": "2022-01-15T16:42:55.398193",
     "exception": false,
     "start_time": "2022-01-15T16:42:54.040629",
     "status": "completed"
    },
    "tags": []
   },
   "outputs": [
    {
     "data": {
      "image/png": "[encoded data removed]",
      "text/plain": [
       "<Figure size 1000x600 with 1 Axes>"
      ]
     },
     "metadata": {},
     "output_type": "display_data"
    }
   ],
   "source": [
    "plt.figure(figsize = (10, 6))\n",
    "plt.hist(data.Tag, log = True, label = 'Tags', color = 'olive', bins = 50)\n",
    "plt.xlabel('Tags', fontsize = 16)\n",
    "plt.ylabel('Count', fontsize = 16)\n",
    "plt.title(\"Tags Frequency\", fontsize = 20)\n",
    "plt.grid(alpha=0.3)\n",
    "plt.legend()\n",
    "plt.xticks(fontsize=15)\n",
    "plt.yticks(fontsize=15)\n",
    "plt.xticks(rotation=90)\n",
    "plt.show()"
   ]
  },
  {
   "cell_type": "markdown",
   "id": "7d43b1ac",
   "metadata": {
    "id": "7d43b1ac",
    "papermill": {
     "duration": 0.049397,
     "end_time": "2022-01-15T16:42:55.703119",
     "exception": false,
     "start_time": "2022-01-15T16:42:55.653722",
     "status": "completed"
    },
    "tags": []
   },
   "source": [
    "# 4- Data Preprocessing"
   ]
  },
  {
   "cell_type": "code",
   "execution_count": 20,
   "id": "9a0c4a68",
   "metadata": {
    "colab": {
     "base_uri": "https://localhost:8080/",
     "height": 206
    },
    "execution": {
     "iopub.execute_input": "2022-01-15T16:42:55.813469Z",
     "iopub.status.busy": "2022-01-15T16:42:55.812738Z",
     "iopub.status.idle": "2022-01-15T16:42:55.817114Z",
     "shell.execute_reply": "2022-01-15T16:42:55.816674Z",
     "shell.execute_reply.started": "2022-01-15T16:28:13.71379Z"
    },
    "id": "9a0c4a68",
    "outputId": "4c4fe286-dc9d-4302-bd3f-ac63b281c517",
    "papermill": {
     "duration": 0.064154,
     "end_time": "2022-01-15T16:42:55.817241",
     "exception": false,
     "start_time": "2022-01-15T16:42:55.753087",
     "status": "completed"
    },
    "tags": []
   },
   "outputs": [
    {
     "data": {
      "text/html": [
       "<div>\n",
       "<style scoped>\n",
       "    .dataframe tbody tr th:only-of-type {\n",
       "        vertical-align: middle;\n",
       "    }\n",
       "\n",
       "    .dataframe tbody tr th {\n",
       "        vertical-align: top;\n",
       "    }\n",
       "\n",
       "    .dataframe thead th {\n",
       "        text-align: right;\n",
       "    }\n",
       "</style>\n",
       "<table border=\"1\" class=\"dataframe\">\n",
       "  <thead>\n",
       "    <tr style=\"text-align: right;\">\n",
       "      <th></th>\n",
       "      <th>Sentence #</th>\n",
       "      <th>Sentence</th>\n",
       "      <th>POS</th>\n",
       "      <th>Tag</th>\n",
       "    </tr>\n",
       "  </thead>\n",
       "  <tbody>\n",
       "    <tr>\n",
       "      <th>0</th>\n",
       "      <td>Sentence: 1</td>\n",
       "      <td>Thousands of demonstrators have marched throug...</td>\n",
       "      <td>['NNS', 'IN', 'NNS', 'VBP', 'VBN', 'IN', 'NNP'...</td>\n",
       "      <td>['O', 'O', 'O', 'O', 'O', 'O', 'B-geo', 'O', '...</td>\n",
       "    </tr>\n",
       "    <tr>\n",
       "      <th>1</th>\n",
       "      <td>Sentence: 2</td>\n",
       "      <td>Families of soldiers killed in the conflict jo...</td>\n",
       "      <td>['NNS', 'IN', 'NNS', 'VBN', 'IN', 'DT', 'NN', ...</td>\n",
       "      <td>['O', 'O', 'O', 'O', 'O', 'O', 'O', 'O', 'O', ...</td>\n",
       "    </tr>\n",
       "    <tr>\n",
       "      <th>2</th>\n",
       "      <td>Sentence: 3</td>\n",
       "      <td>They marched from the Houses of Parliament to ...</td>\n",
       "      <td>['PRP', 'VBD', 'IN', 'DT', 'NNS', 'IN', 'NN', ...</td>\n",
       "      <td>['O', 'O', 'O', 'O', 'O', 'O', 'O', 'O', 'O', ...</td>\n",
       "    </tr>\n",
       "    <tr>\n",
       "      <th>3</th>\n",
       "      <td>Sentence: 4</td>\n",
       "      <td>Police put the number of marchers at 10,000 wh...</td>\n",
       "      <td>['NNS', 'VBD', 'DT', 'NN', 'IN', 'NNS', 'IN', ...</td>\n",
       "      <td>['O', 'O', 'O', 'O', 'O', 'O', 'O', 'O', 'O', ...</td>\n",
       "    </tr>\n",
       "    <tr>\n",
       "      <th>4</th>\n",
       "      <td>Sentence: 5</td>\n",
       "      <td>The protest comes on the eve of the annual con...</td>\n",
       "      <td>['DT', 'NN', 'VBZ', 'IN', 'DT', 'NN', 'IN', 'D...</td>\n",
       "      <td>['O', 'O', 'O', 'O', 'O', 'O', 'O', 'O', 'O', ...</td>\n",
       "    </tr>\n",
       "  </tbody>\n",
       "</table>\n",
       "</div>"
      ],
      "text/plain": [
       "    Sentence #                                           Sentence  \\\n",
       "0  Sentence: 1  Thousands of demonstrators have marched throug...   \n",
       "1  Sentence: 2  Families of soldiers killed in the conflict jo...   \n",
       "2  Sentence: 3  They marched from the Houses of Parliament to ...   \n",
       "3  Sentence: 4  Police put the number of marchers at 10,000 wh...   \n",
       "4  Sentence: 5  The protest comes on the eve of the annual con...   \n",
       "\n",
       "                                                 POS  \\\n",
       "0  ['NNS', 'IN', 'NNS', 'VBP', 'VBN', 'IN', 'NNP'...   \n",
       "1  ['NNS', 'IN', 'NNS', 'VBN', 'IN', 'DT', 'NN', ...   \n",
       "2  ['PRP', 'VBD', 'IN', 'DT', 'NNS', 'IN', 'NN', ...   \n",
       "3  ['NNS', 'VBD', 'DT', 'NN', 'IN', 'NNS', 'IN', ...   \n",
       "4  ['DT', 'NN', 'VBZ', 'IN', 'DT', 'NN', 'IN', 'D...   \n",
       "\n",
       "                                                 Tag  \n",
       "0  ['O', 'O', 'O', 'O', 'O', 'O', 'B-geo', 'O', '...  \n",
       "1  ['O', 'O', 'O', 'O', 'O', 'O', 'O', 'O', 'O', ...  \n",
       "2  ['O', 'O', 'O', 'O', 'O', 'O', 'O', 'O', 'O', ...  \n",
       "3  ['O', 'O', 'O', 'O', 'O', 'O', 'O', 'O', 'O', ...  \n",
       "4  ['O', 'O', 'O', 'O', 'O', 'O', 'O', 'O', 'O', ...  "
      ]
     },
     "execution_count": 20,
     "metadata": {},
     "output_type": "execute_result"
    }
   ],
   "source": [
    "ready_data.head()"
   ]
  },
  {
   "cell_type": "code",
   "execution_count": 21,
   "id": "aafaf66b",
   "metadata": {
    "execution": {
     "iopub.execute_input": "2022-01-15T16:42:55.940254Z",
     "iopub.status.busy": "2022-01-15T16:42:55.938666Z",
     "iopub.status.idle": "2022-01-15T16:42:55.941226Z",
     "shell.execute_reply": "2022-01-15T16:42:55.941651Z",
     "shell.execute_reply.started": "2022-01-15T16:28:13.728328Z"
    },
    "id": "aafaf66b",
    "papermill": {
     "duration": 0.073546,
     "end_time": "2022-01-15T16:42:55.941780",
     "exception": false,
     "start_time": "2022-01-15T16:42:55.868234",
     "status": "completed"
    },
    "tags": []
   },
   "outputs": [],
   "source": [
    "X = list(ready_data['Sentence'])\n",
    "Y = list(ready_data['Tag'])"
   ]
  },
  {
   "cell_type": "code",
   "execution_count": 22,
   "id": "2784fbc2",
   "metadata": {
    "execution": {
     "iopub.execute_input": "2022-01-15T16:42:56.103110Z",
     "iopub.status.busy": "2022-01-15T16:42:56.087923Z",
     "iopub.status.idle": "2022-01-15T16:42:57.734049Z",
     "shell.execute_reply": "2022-01-15T16:42:57.733545Z",
     "shell.execute_reply.started": "2022-01-15T16:28:13.750912Z"
    },
    "id": "2784fbc2",
    "papermill": {
     "duration": 1.742025,
     "end_time": "2022-01-15T16:42:57.734185",
     "exception": false,
     "start_time": "2022-01-15T16:42:55.992160",
     "status": "completed"
    },
    "tags": []
   },
   "outputs": [],
   "source": [
    "from ast import literal_eval\n",
    "Y_ready = []\n",
    "\n",
    "for sen_tags in Y:\n",
    "    Y_ready.append(literal_eval(sen_tags))"
   ]
  },
  {
   "cell_type": "code",
   "execution_count": 23,
   "id": "7f029367",
   "metadata": {
    "colab": {
     "base_uri": "https://localhost:8080/"
    },
    "id": "7f029367",
    "outputId": "3743e9df-1ba1-48fd-8ffc-43a690287c31"
   },
   "outputs": [
    {
     "data": {
      "text/plain": [
       "['O',\n",
       " 'O',\n",
       " 'O',\n",
       " 'O',\n",
       " 'O',\n",
       " 'O',\n",
       " 'B-geo',\n",
       " 'O',\n",
       " 'O',\n",
       " 'O',\n",
       " 'O',\n",
       " 'O',\n",
       " 'B-geo',\n",
       " 'O',\n",
       " 'O',\n",
       " 'O',\n",
       " 'O',\n",
       " 'O',\n",
       " 'B-gpe',\n",
       " 'O',\n",
       " 'O',\n",
       " 'O',\n",
       " 'O',\n",
       " 'O']"
      ]
     },
     "execution_count": 23,
     "metadata": {},
     "output_type": "execute_result"
    }
   ],
   "source": [
    "Y_ready[0]"
   ]
  },
  {
   "cell_type": "code",
   "execution_count": 24,
   "id": "ad6ca72e",
   "metadata": {
    "colab": {
     "base_uri": "https://localhost:8080/"
    },
    "execution": {
     "iopub.execute_input": "2022-01-15T16:42:57.840076Z",
     "iopub.status.busy": "2022-01-15T16:42:57.839341Z",
     "iopub.status.idle": "2022-01-15T16:42:57.842267Z",
     "shell.execute_reply": "2022-01-15T16:42:57.842843Z",
     "shell.execute_reply.started": "2022-01-15T16:28:15.632416Z"
    },
    "id": "ad6ca72e",
    "outputId": "32d76e34-40c8-4a16-f34e-d3225323dfde",
    "papermill": {
     "duration": 0.058176,
     "end_time": "2022-01-15T16:42:57.843012",
     "exception": false,
     "start_time": "2022-01-15T16:42:57.784836",
     "status": "completed"
    },
    "tags": []
   },
   "outputs": [
    {
     "name": "stdout",
     "output_type": "stream",
     "text": [
      "First three sentences: \n",
      "\n",
      "['Thousands of demonstrators have marched through London to protest the war in Iraq and demand the withdrawal of British troops from that country .', 'Families of soldiers killed in the conflict joined the protesters who carried banners with such slogans as \" Bush Number One Terrorist \" and \" Stop the Bombings . \"', 'They marched from the Houses of Parliament to a rally in Hyde Park .']\n"
     ]
    }
   ],
   "source": [
    "print(\"First three sentences: \\n\")\n",
    "print(X[:3])"
   ]
  },
  {
   "cell_type": "code",
   "execution_count": 25,
   "id": "8201accd",
   "metadata": {
    "colab": {
     "base_uri": "https://localhost:8080/"
    },
    "execution": {
     "iopub.execute_input": "2022-01-15T16:42:57.951472Z",
     "iopub.status.busy": "2022-01-15T16:42:57.950890Z",
     "iopub.status.idle": "2022-01-15T16:42:57.955629Z",
     "shell.execute_reply": "2022-01-15T16:42:57.956211Z",
     "shell.execute_reply.started": "2022-01-15T16:28:17.305833Z"
    },
    "id": "8201accd",
    "outputId": "acee0d62-cccd-4fce-8707-575501e98908",
    "papermill": {
     "duration": 0.060545,
     "end_time": "2022-01-15T16:42:57.956375",
     "exception": false,
     "start_time": "2022-01-15T16:42:57.895830",
     "status": "completed"
    },
    "tags": []
   },
   "outputs": [
    {
     "name": "stdout",
     "output_type": "stream",
     "text": [
      "First three Tags: \n",
      "\n",
      "[['O', 'O', 'O', 'O', 'O', 'O', 'B-geo', 'O', 'O', 'O', 'O', 'O', 'B-geo', 'O', 'O', 'O', 'O', 'O', 'B-gpe', 'O', 'O', 'O', 'O', 'O'], ['O', 'O', 'O', 'O', 'O', 'O', 'O', 'O', 'O', 'O', 'O', 'O', 'O', 'O', 'O', 'O', 'O', 'O', 'B-per', 'O', 'O', 'O', 'O', 'O', 'O', 'O', 'O', 'O', 'O', 'O'], ['O', 'O', 'O', 'O', 'O', 'O', 'O', 'O', 'O', 'O', 'O', 'B-geo', 'I-geo', 'O']]\n"
     ]
    }
   ],
   "source": [
    "print(\"First three Tags: \\n\")\n",
    "print(Y_ready[:3])"
   ]
  },
  {
   "cell_type": "markdown",
   "id": "5e942886",
   "metadata": {
    "id": "5e942886",
    "papermill": {
     "duration": 0.05275,
     "end_time": "2022-01-15T16:42:58.062156",
     "exception": false,
     "start_time": "2022-01-15T16:42:58.009406",
     "status": "completed"
    },
    "tags": []
   },
   "source": [
    "We need to tokenize the sentences by mapping each word to a unique identifier, then we need to pad them because NN need the input sentences to have the same lenght."
   ]
  },
  {
   "cell_type": "code",
   "execution_count": 26,
   "id": "1293bb7c",
   "metadata": {
    "execution": {
     "iopub.execute_input": "2022-01-15T16:42:58.177702Z",
     "iopub.status.busy": "2022-01-15T16:42:58.176896Z",
     "iopub.status.idle": "2022-01-15T16:42:59.196933Z",
     "shell.execute_reply": "2022-01-15T16:42:59.196469Z",
     "shell.execute_reply.started": "2022-01-15T16:28:18.521672Z"
    },
    "id": "1293bb7c",
    "papermill": {
     "duration": 1.081072,
     "end_time": "2022-01-15T16:42:59.197086",
     "exception": false,
     "start_time": "2022-01-15T16:42:58.116014",
     "status": "completed"
    },
    "tags": []
   },
   "outputs": [],
   "source": [
    "from tensorflow.keras.preprocessing.text import Tokenizer\n",
    "from tensorflow.keras.preprocessing.sequence import pad_sequences"
   ]
  },
  {
   "cell_type": "code",
   "execution_count": 27,
   "id": "3048d63d",
   "metadata": {
    "colab": {
     "base_uri": "https://localhost:8080/"
    },
    "execution": {
     "iopub.execute_input": "2022-01-15T16:42:59.306994Z",
     "iopub.status.busy": "2022-01-15T16:42:59.306419Z",
     "iopub.status.idle": "2022-01-15T16:42:59.309434Z",
     "shell.execute_reply": "2022-01-15T16:42:59.310014Z",
     "shell.execute_reply.started": "2022-01-15T16:28:19.38558Z"
    },
    "id": "3048d63d",
    "outputId": "c2e24ec4-6b53-4f6e-c6ed-42492d3bd4d6",
    "papermill": {
     "duration": 0.061128,
     "end_time": "2022-01-15T16:42:59.310199",
     "exception": false,
     "start_time": "2022-01-15T16:42:59.249071",
     "status": "completed"
    },
    "tags": []
   },
   "outputs": [
    {
     "name": "stdout",
     "output_type": "stream",
     "text": [
      "Number of examples: 47959\n"
     ]
    }
   ],
   "source": [
    "print(\"Number of examples: {}\".format(len(X)))"
   ]
  },
  {
   "cell_type": "markdown",
   "id": "1e9fd7b1",
   "metadata": {
    "id": "1e9fd7b1",
    "papermill": {
     "duration": 0.051264,
     "end_time": "2022-01-15T16:42:59.413152",
     "exception": false,
     "start_time": "2022-01-15T16:42:59.361888",
     "status": "completed"
    },
    "tags": []
   },
   "source": [
    "- **Toknize sentences**"
   ]
  },
  {
   "cell_type": "code",
   "execution_count": 28,
   "id": "9e62d3bb",
   "metadata": {
    "execution": {
     "iopub.execute_input": "2022-01-15T16:42:59.553739Z",
     "iopub.status.busy": "2022-01-15T16:42:59.548506Z",
     "iopub.status.idle": "2022-01-15T16:43:01.450228Z",
     "shell.execute_reply": "2022-01-15T16:43:01.449706Z",
     "shell.execute_reply.started": "2022-01-15T16:28:20.761383Z"
    },
    "id": "9e62d3bb",
    "papermill": {
     "duration": 1.986415,
     "end_time": "2022-01-15T16:43:01.450363",
     "exception": false,
     "start_time": "2022-01-15T16:42:59.463948",
     "status": "completed"
    },
    "tags": []
   },
   "outputs": [],
   "source": [
    "# cutoff reviews after 110 words\n",
    "maxlen = 110\n",
    "\n",
    "# consider the top 36000 words in the dataset\n",
    "max_words = 36000\n",
    "\n",
    "# tokenize each sentence in the dataset\n",
    "tokenizer = Tokenizer(num_words=max_words)\n",
    "tokenizer.fit_on_texts(X)\n",
    "sequences = tokenizer.texts_to_sequences(X)"
   ]
  },
  {
   "cell_type": "code",
   "execution_count": 29,
   "id": "61bba96c",
   "metadata": {
    "colab": {
     "base_uri": "https://localhost:8080/"
    },
    "id": "61bba96c",
    "outputId": "a66a0c9a-f85a-4956-922f-83eff63b0f1a"
   },
   "outputs": [
    {
     "data": {
      "text/plain": [
       "[260,\n",
       " 3,\n",
       " 997,\n",
       " 13,\n",
       " 1838,\n",
       " 245,\n",
       " 452,\n",
       " 4,\n",
       " 545,\n",
       " 1,\n",
       " 121,\n",
       " 2,\n",
       " 60,\n",
       " 6,\n",
       " 595,\n",
       " 1,\n",
       " 861,\n",
       " 3,\n",
       " 184,\n",
       " 89,\n",
       " 21,\n",
       " 12,\n",
       " 54]"
      ]
     },
     "execution_count": 29,
     "metadata": {},
     "output_type": "execute_result"
    }
   ],
   "source": [
    "sequences[0]"
   ]
  },
  {
   "cell_type": "code",
   "execution_count": 30,
   "id": "05849285",
   "metadata": {
    "colab": {
     "base_uri": "https://localhost:8080/"
    },
    "execution": {
     "iopub.execute_input": "2022-01-15T16:43:01.567111Z",
     "iopub.status.busy": "2022-01-15T16:43:01.562354Z",
     "iopub.status.idle": "2022-01-15T16:43:01.569621Z",
     "shell.execute_reply": "2022-01-15T16:43:01.570552Z",
     "shell.execute_reply.started": "2022-01-15T16:28:22.898505Z"
    },
    "id": "05849285",
    "outputId": "14f76f5a-10d2-49fc-f9dd-4df9ae54a05c",
    "papermill": {
     "duration": 0.06929,
     "end_time": "2022-01-15T16:43:01.570726",
     "exception": false,
     "start_time": "2022-01-15T16:43:01.501436",
     "status": "completed"
    },
    "tags": []
   },
   "outputs": [
    {
     "name": "stdout",
     "output_type": "stream",
     "text": [
      "Found 27953 unique tokens.\n"
     ]
    }
   ],
   "source": [
    "word_index = tokenizer.word_index\n",
    "print(\"Found {} unique tokens.\".format(len(word_index)))\n",
    "ind2word = dict([(value, key) for (key, value) in word_index.items()])"
   ]
  },
  {
   "cell_type": "code",
   "execution_count": 31,
   "id": "96f27e09",
   "metadata": {
    "execution": {
     "iopub.execute_input": "2022-01-15T16:43:01.678916Z",
     "iopub.status.busy": "2022-01-15T16:43:01.678124Z",
     "iopub.status.idle": "2022-01-15T16:43:01.680087Z",
     "shell.execute_reply": "2022-01-15T16:43:01.680515Z",
     "shell.execute_reply.started": "2022-01-15T16:28:22.926789Z"
    },
    "id": "96f27e09",
    "papermill": {
     "duration": 0.057225,
     "end_time": "2022-01-15T16:43:01.680649",
     "exception": false,
     "start_time": "2022-01-15T16:43:01.623424",
     "status": "completed"
    },
    "tags": []
   },
   "outputs": [],
   "source": [
    "word2id = word_index"
   ]
  },
  {
   "cell_type": "code",
   "execution_count": 32,
   "id": "8ca6d439",
   "metadata": {
    "execution": {
     "iopub.execute_input": "2022-01-15T16:43:01.794224Z",
     "iopub.status.busy": "2022-01-15T16:43:01.793393Z",
     "iopub.status.idle": "2022-01-15T16:43:01.795506Z",
     "shell.execute_reply": "2022-01-15T16:43:01.795918Z",
     "shell.execute_reply.started": "2022-01-15T16:28:24.227428Z"
    },
    "id": "8ca6d439",
    "papermill": {
     "duration": 0.063862,
     "end_time": "2022-01-15T16:43:01.796068",
     "exception": false,
     "start_time": "2022-01-15T16:43:01.732206",
     "status": "completed"
    },
    "tags": []
   },
   "outputs": [],
   "source": [
    "# dict. that map each identifier to its word\n",
    "id2word = {}\n",
    "for key, value in word2id.items():\n",
    "    id2word[value] = key"
   ]
  },
  {
   "cell_type": "markdown",
   "id": "495b3f18",
   "metadata": {
    "id": "495b3f18",
    "papermill": {
     "duration": 0.053801,
     "end_time": "2022-01-15T16:43:01.901783",
     "exception": false,
     "start_time": "2022-01-15T16:43:01.847982",
     "status": "completed"
    },
    "tags": []
   },
   "source": [
    "- **Sentences padding**"
   ]
  },
  {
   "cell_type": "code",
   "execution_count": 33,
   "id": "3035f851",
   "metadata": {
    "execution": {
     "iopub.execute_input": "2022-01-15T16:43:02.016868Z",
     "iopub.status.busy": "2022-01-15T16:43:02.013661Z",
     "iopub.status.idle": "2022-01-15T16:43:02.416936Z",
     "shell.execute_reply": "2022-01-15T16:43:02.416425Z",
     "shell.execute_reply.started": "2022-01-15T16:28:25.189757Z"
    },
    "id": "3035f851",
    "papermill": {
     "duration": 0.462976,
     "end_time": "2022-01-15T16:43:02.417085",
     "exception": false,
     "start_time": "2022-01-15T16:43:01.954109",
     "status": "completed"
    },
    "tags": []
   },
   "outputs": [],
   "source": [
    "# pad the sequences so that all sequences are of the same size\n",
    "X_preprocessed = pad_sequences(sequences, maxlen=maxlen, padding='post')"
   ]
  },
  {
   "cell_type": "code",
   "execution_count": 34,
   "id": "e4d343e2",
   "metadata": {
    "colab": {
     "base_uri": "https://localhost:8080/"
    },
    "execution": {
     "iopub.execute_input": "2022-01-15T16:43:02.527060Z",
     "iopub.status.busy": "2022-01-15T16:43:02.526393Z",
     "iopub.status.idle": "2022-01-15T16:43:02.528972Z",
     "shell.execute_reply": "2022-01-15T16:43:02.529423Z",
     "shell.execute_reply.started": "2022-01-15T16:28:25.605489Z"
    },
    "id": "e4d343e2",
    "outputId": "3a85c352-f482-4bd2-a184-ee4ea08000a9",
    "papermill": {
     "duration": 0.060811,
     "end_time": "2022-01-15T16:43:02.529552",
     "exception": false,
     "start_time": "2022-01-15T16:43:02.468741",
     "status": "completed"
    },
    "tags": []
   },
   "outputs": [
    {
     "data": {
      "text/plain": [
       "array([ 260,    3,  997,   13, 1838,  245,  452,    4,  545,    1,  121,\n",
       "          2,   60,    6,  595,    1,  861,    3,  184,   89,   21,   12,\n",
       "         54,    0,    0,    0,    0,    0,    0,    0,    0,    0,    0,\n",
       "          0,    0,    0,    0,    0,    0,    0,    0,    0,    0,    0,\n",
       "          0,    0,    0,    0,    0,    0,    0,    0,    0,    0,    0,\n",
       "          0,    0,    0,    0,    0,    0,    0,    0,    0,    0,    0,\n",
       "          0,    0,    0,    0,    0,    0,    0,    0,    0,    0,    0,\n",
       "          0,    0,    0,    0,    0,    0,    0,    0,    0,    0,    0,\n",
       "          0,    0,    0,    0,    0,    0,    0,    0,    0,    0,    0,\n",
       "          0,    0,    0,    0,    0,    0,    0,    0,    0,    0,    0])"
      ]
     },
     "execution_count": 34,
     "metadata": {},
     "output_type": "execute_result"
    }
   ],
   "source": [
    "# first example after tokenization and padding.\n",
    "X_preprocessed[0]"
   ]
  },
  {
   "cell_type": "code",
   "execution_count": 35,
   "id": "c58bb9e9",
   "metadata": {
    "colab": {
     "base_uri": "https://localhost:8080/"
    },
    "execution": {
     "iopub.execute_input": "2022-01-15T16:43:02.638248Z",
     "iopub.status.busy": "2022-01-15T16:43:02.637606Z",
     "iopub.status.idle": "2022-01-15T16:43:02.640214Z",
     "shell.execute_reply": "2022-01-15T16:43:02.640617Z",
     "shell.execute_reply.started": "2022-01-15T16:28:25.66357Z"
    },
    "id": "c58bb9e9",
    "outputId": "d4e491e5-8682-429e-d5f2-099147ecefd0",
    "papermill": {
     "duration": 0.059809,
     "end_time": "2022-01-15T16:43:02.640735",
     "exception": false,
     "start_time": "2022-01-15T16:43:02.580926",
     "status": "completed"
    },
    "tags": []
   },
   "outputs": [
    {
     "data": {
      "text/plain": [
       "array([ 9811,     2,   640,   454,  2760,   155,   944, 15986,  5319,\n",
       "        1941,     3,    61,  4900,   155,  4877, 22425,  1941,    17,\n",
       "       13036, 22426, 22427,     6,   699,   325,   428, 22428,  1941,\n",
       "       13142, 13143, 22429, 22430,    47,   381,    25,  2859,   907,\n",
       "       22431,  2166,     4,   155,  1229, 22432,  1941,     2,   754,\n",
       "         629,     3,    61,  4899,   155,   975, 22433,  1941,    17,\n",
       "       13036,     6,   699,   454,   428, 22434,  1941, 13142, 13143,\n",
       "        1033,  1453,    21,     1,   257,  3560,    22,     1,  4417,\n",
       "           3,     1,  5701,     3,  3783,  2111,  1028,  1243, 22435,\n",
       "          61,  6936,  2197,  3486,     1,   135,  1185,   257,     0,\n",
       "           0,     0,     0,     0,     0,     0,     0,     0,     0,\n",
       "           0,     0,     0,     0,     0,     0,     0,     0,     0,\n",
       "           0,     0])"
      ]
     },
     "execution_count": 35,
     "metadata": {},
     "output_type": "execute_result"
    }
   ],
   "source": [
    "# 22479 example after tokenization and padding.\n",
    "X_preprocessed[22479]"
   ]
  },
  {
   "cell_type": "markdown",
   "id": "2bd66663",
   "metadata": {
    "id": "2bd66663",
    "papermill": {
     "duration": 0.051706,
     "end_time": "2022-01-15T16:43:02.744314",
     "exception": false,
     "start_time": "2022-01-15T16:43:02.692608",
     "status": "completed"
    },
    "tags": []
   },
   "source": [
    "- **Preprocess tags**"
   ]
  },
  {
   "cell_type": "code",
   "execution_count": 36,
   "id": "ae26919a",
   "metadata": {
    "execution": {
     "iopub.execute_input": "2022-01-15T16:43:02.957702Z",
     "iopub.status.busy": "2022-01-15T16:43:02.956875Z",
     "iopub.status.idle": "2022-01-15T16:43:02.958637Z",
     "shell.execute_reply": "2022-01-15T16:43:02.959087Z",
     "shell.execute_reply.started": "2022-01-15T16:28:28.495124Z"
    },
    "id": "ae26919a",
    "papermill": {
     "duration": 0.058925,
     "end_time": "2022-01-15T16:43:02.959212",
     "exception": false,
     "start_time": "2022-01-15T16:43:02.900287",
     "status": "completed"
    },
    "tags": []
   },
   "outputs": [],
   "source": [
    "# dict. that map each tag to its identifier\n",
    "tags2id = {}\n",
    "for i, tag in enumerate(tags):\n",
    "    tags2id[tag] = i"
   ]
  },
  {
   "cell_type": "code",
   "execution_count": 37,
   "id": "cf52c0b3",
   "metadata": {
    "colab": {
     "base_uri": "https://localhost:8080/"
    },
    "execution": {
     "iopub.execute_input": "2022-01-15T16:43:03.068767Z",
     "iopub.status.busy": "2022-01-15T16:43:03.068138Z",
     "iopub.status.idle": "2022-01-15T16:43:03.070624Z",
     "shell.execute_reply": "2022-01-15T16:43:03.071131Z",
     "shell.execute_reply.started": "2022-01-15T16:28:28.653898Z"
    },
    "id": "cf52c0b3",
    "outputId": "48188298-5c77-4f49-a33f-d5aead4c1b8e",
    "papermill": {
     "duration": 0.060015,
     "end_time": "2022-01-15T16:43:03.071259",
     "exception": false,
     "start_time": "2022-01-15T16:43:03.011244",
     "status": "completed"
    },
    "tags": []
   },
   "outputs": [
    {
     "data": {
      "text/plain": [
       "{'O': 0,\n",
       " 'B-geo': 1,\n",
       " 'B-gpe': 2,\n",
       " 'B-per': 3,\n",
       " 'I-geo': 4,\n",
       " 'B-org': 5,\n",
       " 'I-org': 6,\n",
       " 'B-tim': 7,\n",
       " 'B-art': 8,\n",
       " 'I-art': 9,\n",
       " 'I-per': 10,\n",
       " 'I-gpe': 11,\n",
       " 'I-tim': 12,\n",
       " 'B-nat': 13,\n",
       " 'B-eve': 14,\n",
       " 'I-eve': 15,\n",
       " 'I-nat': 16}"
      ]
     },
     "execution_count": 37,
     "metadata": {},
     "output_type": "execute_result"
    }
   ],
   "source": [
    "tags2id"
   ]
  },
  {
   "cell_type": "code",
   "execution_count": 38,
   "id": "97f3a40a",
   "metadata": {
    "execution": {
     "iopub.execute_input": "2022-01-15T16:43:03.180664Z",
     "iopub.status.busy": "2022-01-15T16:43:03.180143Z",
     "iopub.status.idle": "2022-01-15T16:43:03.183804Z",
     "shell.execute_reply": "2022-01-15T16:43:03.183396Z",
     "shell.execute_reply.started": "2022-01-15T16:28:29.560612Z"
    },
    "id": "97f3a40a",
    "papermill": {
     "duration": 0.06001,
     "end_time": "2022-01-15T16:43:03.183911",
     "exception": false,
     "start_time": "2022-01-15T16:43:03.123901",
     "status": "completed"
    },
    "tags": []
   },
   "outputs": [],
   "source": [
    "# dict. that map each identifier to its tag\n",
    "id2tag = {}\n",
    "for key, value in tags2id.items():\n",
    "    id2tag[value] = key"
   ]
  },
  {
   "cell_type": "code",
   "execution_count": 39,
   "id": "bee607e6",
   "metadata": {
    "colab": {
     "base_uri": "https://localhost:8080/"
    },
    "execution": {
     "iopub.execute_input": "2022-01-15T16:43:03.293689Z",
     "iopub.status.busy": "2022-01-15T16:43:03.293051Z",
     "iopub.status.idle": "2022-01-15T16:43:03.295635Z",
     "shell.execute_reply": "2022-01-15T16:43:03.296057Z",
     "shell.execute_reply.started": "2022-01-15T16:28:29.758829Z"
    },
    "id": "bee607e6",
    "outputId": "fa4bcde7-46da-4adc-dd4b-d022d68c152a",
    "papermill": {
     "duration": 0.059863,
     "end_time": "2022-01-15T16:43:03.296189",
     "exception": false,
     "start_time": "2022-01-15T16:43:03.236326",
     "status": "completed"
    },
    "scrolled": true,
    "tags": []
   },
   "outputs": [
    {
     "data": {
      "text/plain": [
       "{0: 'O',\n",
       " 1: 'B-geo',\n",
       " 2: 'B-gpe',\n",
       " 3: 'B-per',\n",
       " 4: 'I-geo',\n",
       " 5: 'B-org',\n",
       " 6: 'I-org',\n",
       " 7: 'B-tim',\n",
       " 8: 'B-art',\n",
       " 9: 'I-art',\n",
       " 10: 'I-per',\n",
       " 11: 'I-gpe',\n",
       " 12: 'I-tim',\n",
       " 13: 'B-nat',\n",
       " 14: 'B-eve',\n",
       " 15: 'I-eve',\n",
       " 16: 'I-nat'}"
      ]
     },
     "execution_count": 39,
     "metadata": {},
     "output_type": "execute_result"
    }
   ],
   "source": [
    "id2tag"
   ]
  },
  {
   "cell_type": "code",
   "execution_count": 40,
   "id": "883d8b18",
   "metadata": {
    "execution": {
     "iopub.execute_input": "2022-01-15T16:43:03.408828Z",
     "iopub.status.busy": "2022-01-15T16:43:03.407977Z",
     "iopub.status.idle": "2022-01-15T16:43:03.409745Z",
     "shell.execute_reply": "2022-01-15T16:43:03.410210Z",
     "shell.execute_reply.started": "2022-01-15T16:28:29.959161Z"
    },
    "id": "883d8b18",
    "papermill": {
     "duration": 0.060549,
     "end_time": "2022-01-15T16:43:03.410343",
     "exception": false,
     "start_time": "2022-01-15T16:43:03.349794",
     "status": "completed"
    },
    "tags": []
   },
   "outputs": [],
   "source": [
    "def preprocess_tags(tags2id, Y_ready):\n",
    "\n",
    "    Y_preprocessed = []\n",
    "    maxlen = 110\n",
    "    # for each target\n",
    "    for y in Y_ready:\n",
    "\n",
    "        # place holder to store the new preprocessed tag list\n",
    "        Y_place_holder = []\n",
    "\n",
    "        # for each tag in rhe tag list\n",
    "        for tag in y:\n",
    "            # append the id of the tag in the place holder list\n",
    "            Y_place_holder.append(tags2id[tag])\n",
    "\n",
    "        # find the lenght of the new preprocessed tag list\n",
    "        len_new_tag_list = len(Y_place_holder)\n",
    "        # find the differance in length between the len of tag list and padded sentences\n",
    "        num_O_to_add = maxlen - len_new_tag_list\n",
    "\n",
    "        # add 'O's to padd the tag lists\n",
    "        padded_tags = Y_place_holder + ([tags2id['O']] * num_O_to_add)\n",
    "        Y_preprocessed.append(padded_tags)\n",
    "\n",
    "    return Y_preprocessed"
   ]
  },
  {
   "cell_type": "code",
   "execution_count": 41,
   "id": "5e896708",
   "metadata": {
    "execution": {
     "iopub.execute_input": "2022-01-15T16:43:03.533887Z",
     "iopub.status.busy": "2022-01-15T16:43:03.528645Z",
     "iopub.status.idle": "2022-01-15T16:43:03.747814Z",
     "shell.execute_reply": "2022-01-15T16:43:03.747351Z",
     "shell.execute_reply.started": "2022-01-15T16:28:30.748964Z"
    },
    "id": "5e896708",
    "papermill": {
     "duration": 0.285409,
     "end_time": "2022-01-15T16:43:03.747941",
     "exception": false,
     "start_time": "2022-01-15T16:43:03.462532",
     "status": "completed"
    },
    "tags": []
   },
   "outputs": [],
   "source": [
    "Y_preprocessed = preprocess_tags(tags2id, Y_ready)"
   ]
  },
  {
   "cell_type": "code",
   "execution_count": 42,
   "id": "636fea6c",
   "metadata": {
    "colab": {
     "base_uri": "https://localhost:8080/"
    },
    "execution": {
     "iopub.execute_input": "2022-01-15T16:43:03.858977Z",
     "iopub.status.busy": "2022-01-15T16:43:03.858326Z",
     "iopub.status.idle": "2022-01-15T16:43:03.861265Z",
     "shell.execute_reply": "2022-01-15T16:43:03.861687Z",
     "shell.execute_reply.started": "2022-01-15T16:28:31.001433Z"
    },
    "id": "636fea6c",
    "outputId": "adf7694d-4657-45d2-b071-8aa4ada4aa0e",
    "papermill": {
     "duration": 0.060423,
     "end_time": "2022-01-15T16:43:03.861820",
     "exception": false,
     "start_time": "2022-01-15T16:43:03.801397",
     "status": "completed"
    },
    "tags": []
   },
   "outputs": [
    {
     "name": "stdout",
     "output_type": "stream",
     "text": [
      "[0, 0, 0, 0, 0, 0, 1, 0, 0, 0, 0, 0, 1, 0, 0, 0, 0, 0, 2, 0, 0, 0, 0, 0, 0, 0, 0, 0, 0, 0, 0, 0, 0, 0, 0, 0, 0, 0, 0, 0, 0, 0, 0, 0, 0, 0, 0, 0, 0, 0, 0, 0, 0, 0, 0, 0, 0, 0, 0, 0, 0, 0, 0, 0, 0, 0, 0, 0, 0, 0, 0, 0, 0, 0, 0, 0, 0, 0, 0, 0, 0, 0, 0, 0, 0, 0, 0, 0, 0, 0, 0, 0, 0, 0, 0, 0, 0, 0, 0, 0, 0, 0, 0, 0, 0, 0, 0, 0, 0, 0]\n"
     ]
    }
   ],
   "source": [
    "print(Y_preprocessed[0])"
   ]
  },
  {
   "cell_type": "code",
   "execution_count": 43,
   "id": "29d6aaf2",
   "metadata": {
    "colab": {
     "base_uri": "https://localhost:8080/"
    },
    "execution": {
     "iopub.execute_input": "2022-01-15T16:43:03.973287Z",
     "iopub.status.busy": "2022-01-15T16:43:03.972646Z",
     "iopub.status.idle": "2022-01-15T16:43:03.975349Z",
     "shell.execute_reply": "2022-01-15T16:43:03.975796Z",
     "shell.execute_reply.started": "2022-01-15T16:28:31.994742Z"
    },
    "id": "29d6aaf2",
    "outputId": "62fbae8a-872c-45e3-9b5a-b6bb463f1447",
    "papermill": {
     "duration": 0.060788,
     "end_time": "2022-01-15T16:43:03.975930",
     "exception": false,
     "start_time": "2022-01-15T16:43:03.915142",
     "status": "completed"
    },
    "tags": []
   },
   "outputs": [
    {
     "name": "stdout",
     "output_type": "stream",
     "text": [
      "['O', 'O', 'O', 'O', 'O', 'O', 'B-geo', 'O', 'O', 'O', 'O', 'O', 'B-geo', 'O', 'O', 'O', 'O', 'O', 'B-gpe', 'O', 'O', 'O', 'O', 'O']\n"
     ]
    }
   ],
   "source": [
    "print(Y_ready[0])"
   ]
  },
  {
   "cell_type": "markdown",
   "id": "2e820389",
   "metadata": {
    "id": "2e820389",
    "papermill": {
     "duration": 0.063795,
     "end_time": "2022-01-15T16:43:04.311125",
     "exception": false,
     "start_time": "2022-01-15T16:43:04.247330",
     "status": "completed"
    },
    "tags": []
   },
   "source": [
    "- **Data shuffling and splitting**"
   ]
  },
  {
   "cell_type": "code",
   "execution_count": 44,
   "id": "c17f4f50",
   "metadata": {
    "colab": {
     "base_uri": "https://localhost:8080/"
    },
    "execution": {
     "iopub.execute_input": "2022-01-15T16:43:04.434733Z",
     "iopub.status.busy": "2022-01-15T16:43:04.434130Z",
     "iopub.status.idle": "2022-01-15T16:43:04.437113Z",
     "shell.execute_reply": "2022-01-15T16:43:04.437719Z",
     "shell.execute_reply.started": "2022-01-15T16:28:33.782893Z"
    },
    "id": "c17f4f50",
    "outputId": "bd80fabc-5612-4b1d-f605-643ef15b7f9e",
    "papermill": {
     "duration": 0.064721,
     "end_time": "2022-01-15T16:43:04.437917",
     "exception": false,
     "start_time": "2022-01-15T16:43:04.373196",
     "status": "completed"
    },
    "tags": []
   },
   "outputs": [
    {
     "name": "stdout",
     "output_type": "stream",
     "text": [
      "The Lenght of training examples: 47959\n",
      "The Lenght of training targets: 47959\n"
     ]
    }
   ],
   "source": [
    "print(\"The Lenght of training examples: {}\".format(len(X_preprocessed)))\n",
    "print(\"The Lenght of training targets: {}\".format(len(Y_preprocessed)))"
   ]
  },
  {
   "cell_type": "code",
   "execution_count": 45,
   "id": "c6be1445",
   "metadata": {
    "execution": {
     "iopub.execute_input": "2022-01-15T16:43:05.656234Z",
     "iopub.status.busy": "2022-01-15T16:43:05.655288Z",
     "iopub.status.idle": "2022-01-15T16:43:05.676116Z",
     "shell.execute_reply": "2022-01-15T16:43:05.676871Z",
     "shell.execute_reply.started": "2022-01-15T16:28:34.065085Z"
    },
    "id": "c6be1445",
    "papermill": {
     "duration": 1.180703,
     "end_time": "2022-01-15T16:43:05.677095",
     "exception": false,
     "start_time": "2022-01-15T16:43:04.496392",
     "status": "completed"
    },
    "tags": []
   },
   "outputs": [],
   "source": [
    "X_preprocessed = np.asarray(X_preprocessed)\n",
    "Y_preprocessed = np.asarray(Y_preprocessed)"
   ]
  },
  {
   "cell_type": "code",
   "execution_count": 46,
   "id": "01b8da2d",
   "metadata": {
    "execution": {
     "iopub.execute_input": "2022-01-15T16:43:05.858507Z",
     "iopub.status.busy": "2022-01-15T16:43:05.857543Z",
     "iopub.status.idle": "2022-01-15T16:43:05.859678Z",
     "shell.execute_reply": "2022-01-15T16:43:05.861479Z",
     "shell.execute_reply.started": "2022-01-15T16:28:35.143994Z"
    },
    "id": "01b8da2d",
    "papermill": {
     "duration": 0.096152,
     "end_time": "2022-01-15T16:43:05.861702",
     "exception": false,
     "start_time": "2022-01-15T16:43:05.765550",
     "status": "completed"
    },
    "tags": []
   },
   "outputs": [],
   "source": [
    "# 70% of the datat will be used for training\n",
    "training_samples = 0.7\n",
    "# 15% of the datat will be used for validation\n",
    "validation_samples = 0.15\n",
    "# 15% of the datat will be used for testing\n",
    "testing_samples = 0.15"
   ]
  },
  {
   "cell_type": "code",
   "execution_count": 47,
   "id": "2814957e",
   "metadata": {
    "execution": {
     "iopub.execute_input": "2022-01-15T16:43:05.974080Z",
     "iopub.status.busy": "2022-01-15T16:43:05.973329Z",
     "iopub.status.idle": "2022-01-15T16:43:05.975375Z",
     "shell.execute_reply": "2022-01-15T16:43:05.975763Z",
     "shell.execute_reply.started": "2022-01-15T16:28:35.157267Z"
    },
    "id": "2814957e",
    "papermill": {
     "duration": 0.059234,
     "end_time": "2022-01-15T16:43:05.975891",
     "exception": false,
     "start_time": "2022-01-15T16:43:05.916657",
     "status": "completed"
    },
    "tags": []
   },
   "outputs": [],
   "source": [
    "indices = np.arange(len(Y_preprocessed))"
   ]
  },
  {
   "cell_type": "code",
   "execution_count": 48,
   "id": "fafe36e7",
   "metadata": {
    "execution": {
     "iopub.execute_input": "2022-01-15T16:43:06.089322Z",
     "iopub.status.busy": "2022-01-15T16:43:06.088479Z",
     "iopub.status.idle": "2022-01-15T16:43:06.090284Z",
     "shell.execute_reply": "2022-01-15T16:43:06.090722Z",
     "shell.execute_reply.started": "2022-01-15T16:28:35.171592Z"
    },
    "id": "fafe36e7",
    "papermill": {
     "duration": 0.061663,
     "end_time": "2022-01-15T16:43:06.090845",
     "exception": false,
     "start_time": "2022-01-15T16:43:06.029182",
     "status": "completed"
    },
    "tags": []
   },
   "outputs": [],
   "source": [
    "np.random.seed(seed=555)\n",
    "np.random.shuffle(indices)"
   ]
  },
  {
   "cell_type": "code",
   "execution_count": 49,
   "id": "05e2e692",
   "metadata": {
    "execution": {
     "iopub.execute_input": "2022-01-15T16:43:06.200942Z",
     "iopub.status.busy": "2022-01-15T16:43:06.199995Z",
     "iopub.status.idle": "2022-01-15T16:43:06.227222Z",
     "shell.execute_reply": "2022-01-15T16:43:06.227672Z",
     "shell.execute_reply.started": "2022-01-15T16:28:35.186428Z"
    },
    "id": "05e2e692",
    "papermill": {
     "duration": 0.084126,
     "end_time": "2022-01-15T16:43:06.227838",
     "exception": false,
     "start_time": "2022-01-15T16:43:06.143712",
     "status": "completed"
    },
    "tags": []
   },
   "outputs": [],
   "source": [
    "X_preprocessed = X_preprocessed[indices]\n",
    "Y_preprocessed = Y_preprocessed[indices]"
   ]
  },
  {
   "cell_type": "code",
   "execution_count": 50,
   "id": "a453189b",
   "metadata": {
    "colab": {
     "base_uri": "https://localhost:8080/"
    },
    "execution": {
     "iopub.execute_input": "2022-01-15T16:43:06.343415Z",
     "iopub.status.busy": "2022-01-15T16:43:06.338943Z",
     "iopub.status.idle": "2022-01-15T16:43:06.345906Z",
     "shell.execute_reply": "2022-01-15T16:43:06.346378Z",
     "shell.execute_reply.started": "2022-01-15T16:28:35.527688Z"
    },
    "id": "a453189b",
    "outputId": "315502a8-17f4-426d-ac81-93608ee7d2ab",
    "papermill": {
     "duration": 0.065061,
     "end_time": "2022-01-15T16:43:06.346513",
     "exception": false,
     "start_time": "2022-01-15T16:43:06.281452",
     "status": "completed"
    },
    "tags": []
   },
   "outputs": [
    {
     "name": "stdout",
     "output_type": "stream",
     "text": [
      "Number of training examples: 33571\n",
      "Number of validation examples: 7194\n",
      "Number of testing examples: 7194\n",
      "Total number of examples after shuffling and splitting: 47959\n"
     ]
    }
   ],
   "source": [
    "X_train = X_preprocessed[: int(0.7 * len(X_preprocessed))]\n",
    "print(\"Number of training examples: {}\".format(len(X_train)))\n",
    "\n",
    "\n",
    "X_val = X_preprocessed[int(0.7 * len(X_preprocessed)) : int(0.7 * len(X_preprocessed)) + (int(0.15 * len(X_preprocessed)) + 1)]\n",
    "print(\"Number of validation examples: {}\".format(len(X_val)))\n",
    "\n",
    "\n",
    "X_test = X_preprocessed[int(0.7 * len(X_preprocessed)) + (int(0.15 * len(X_preprocessed)) + 1) : ]\n",
    "print(\"Number of testing examples: {}\".format(len(X_test)))\n",
    "\n",
    "\n",
    "\n",
    "Y_train = Y_preprocessed[: int(0.7 * len(X_preprocessed))]\n",
    "Y_val = Y_preprocessed[int(0.7 * len(X_preprocessed)) : int(0.7 * len(X_preprocessed)) + (int(0.15 * len(X_preprocessed)) + 1)]\n",
    "Y_test = Y_preprocessed[int(0.7 * len(X_preprocessed)) + (int(0.15 * len(X_preprocessed)) + 1) : ]\n",
    "\n",
    "print(\"Total number of examples after shuffling and splitting: {}\".format(len(X_train) + len(X_val) + len(X_test)))"
   ]
  },
  {
   "cell_type": "markdown",
   "id": "fc92dee1",
   "metadata": {
    "id": "fc92dee1",
    "papermill": {
     "duration": 0.052903,
     "end_time": "2022-01-15T16:43:06.452379",
     "exception": false,
     "start_time": "2022-01-15T16:43:06.399476",
     "status": "completed"
    },
    "tags": []
   },
   "source": [
    "# 5- Model Training and Evaluation"
   ]
  },
  {
   "cell_type": "code",
   "execution_count": 51,
   "id": "8f9be73f",
   "metadata": {
    "colab": {
     "base_uri": "https://localhost:8080/"
    },
    "execution": {
     "iopub.execute_input": "2022-01-15T16:43:06.563974Z",
     "iopub.status.busy": "2022-01-15T16:43:06.563329Z",
     "iopub.status.idle": "2022-01-15T16:43:06.565998Z",
     "shell.execute_reply": "2022-01-15T16:43:06.566434Z",
     "shell.execute_reply.started": "2022-01-15T16:28:37.426574Z"
    },
    "id": "8f9be73f",
    "outputId": "bbae6d79-7544-4d0c-cebc-5fa05be6ba73",
    "papermill": {
     "duration": 0.060937,
     "end_time": "2022-01-15T16:43:06.566559",
     "exception": false,
     "start_time": "2022-01-15T16:43:06.505622",
     "status": "completed"
    },
    "tags": []
   },
   "outputs": [
    {
     "data": {
      "text/plain": [
       "array([ 1072,    13,   176,  2236,   150,  1455,    12,     1,   580,\n",
       "           4,  2991,     1,  2559,  2844, 10348,    22,   391,    32,\n",
       "        2581,    41,   514,  2016,   357,  7962,   192,    48,     0,\n",
       "           0,     0,     0,     0,     0,     0,     0,     0,     0,\n",
       "           0,     0,     0,     0,     0,     0,     0,     0,     0,\n",
       "           0,     0,     0,     0,     0,     0,     0,     0,     0,\n",
       "           0,     0,     0,     0,     0,     0,     0,     0,     0,\n",
       "           0,     0,     0,     0,     0,     0,     0,     0,     0,\n",
       "           0,     0,     0,     0,     0,     0,     0,     0,     0,\n",
       "           0,     0,     0,     0,     0,     0,     0,     0,     0,\n",
       "           0,     0,     0,     0,     0,     0,     0,     0,     0,\n",
       "           0,     0,     0,     0,     0,     0,     0,     0,     0,\n",
       "           0,     0])"
      ]
     },
     "execution_count": 51,
     "metadata": {},
     "output_type": "execute_result"
    }
   ],
   "source": [
    "X_train[1]"
   ]
  },
  {
   "cell_type": "code",
   "execution_count": 52,
   "id": "580dcc86",
   "metadata": {
    "colab": {
     "base_uri": "https://localhost:8080/"
    },
    "execution": {
     "iopub.execute_input": "2022-01-15T16:43:06.678276Z",
     "iopub.status.busy": "2022-01-15T16:43:06.677591Z",
     "iopub.status.idle": "2022-01-15T16:43:06.680240Z",
     "shell.execute_reply": "2022-01-15T16:43:06.680645Z",
     "shell.execute_reply.started": "2022-01-15T16:28:37.641042Z"
    },
    "id": "580dcc86",
    "outputId": "dffaedfa-b37f-40e5-8d1c-58090919102c",
    "papermill": {
     "duration": 0.061212,
     "end_time": "2022-01-15T16:43:06.680765",
     "exception": false,
     "start_time": "2022-01-15T16:43:06.619553",
     "status": "completed"
    },
    "tags": []
   },
   "outputs": [
    {
     "data": {
      "text/plain": [
       "array([0, 0, 0, 0, 0, 0, 0, 0, 0, 0, 0, 0, 0, 0, 0, 0, 0, 1, 0, 0, 0, 0,\n",
       "       0, 0, 0, 7, 0, 0, 0, 0, 0, 0, 0, 0, 0, 0, 0, 0, 0, 0, 0, 0, 0, 0,\n",
       "       0, 0, 0, 0, 0, 0, 0, 0, 0, 0, 0, 0, 0, 0, 0, 0, 0, 0, 0, 0, 0, 0,\n",
       "       0, 0, 0, 0, 0, 0, 0, 0, 0, 0, 0, 0, 0, 0, 0, 0, 0, 0, 0, 0, 0, 0,\n",
       "       0, 0, 0, 0, 0, 0, 0, 0, 0, 0, 0, 0, 0, 0, 0, 0, 0, 0, 0, 0, 0, 0])"
      ]
     },
     "execution_count": 52,
     "metadata": {},
     "output_type": "execute_result"
    }
   ],
   "source": [
    "Y_train[1]"
   ]
  },
  {
   "cell_type": "code",
   "execution_count": 53,
   "id": "325cae90",
   "metadata": {
    "colab": {
     "base_uri": "https://localhost:8080/",
     "height": 36
    },
    "execution": {
     "iopub.execute_input": "2022-01-15T16:43:06.792798Z",
     "iopub.status.busy": "2022-01-15T16:43:06.792123Z",
     "iopub.status.idle": "2022-01-15T16:43:06.794773Z",
     "shell.execute_reply": "2022-01-15T16:43:06.795201Z",
     "shell.execute_reply.started": "2022-01-15T16:28:37.83752Z"
    },
    "id": "325cae90",
    "outputId": "7ac26a83-2ada-4f97-dcd8-ec7b5fe2f4dd",
    "papermill": {
     "duration": 0.061026,
     "end_time": "2022-01-15T16:43:06.795333",
     "exception": false,
     "start_time": "2022-01-15T16:43:06.734307",
     "status": "completed"
    },
    "tags": []
   },
   "outputs": [
    {
     "data": {
      "text/plain": [
       "'nigeria'"
      ]
     },
     "execution_count": 53,
     "metadata": {},
     "output_type": "execute_result"
    }
   ],
   "source": [
    "id2word[729]"
   ]
  },
  {
   "cell_type": "markdown",
   "id": "168355e9",
   "metadata": {
    "id": "168355e9",
    "papermill": {
     "duration": 0.05456,
     "end_time": "2022-01-15T16:43:06.904202",
     "exception": false,
     "start_time": "2022-01-15T16:43:06.849642",
     "status": "completed"
    },
    "tags": []
   },
   "source": [
    "## Load dataset to the model using train_dataset = tf.data.Dataset\n"
   ]
  },
  {
   "cell_type": "code",
   "execution_count": 54,
   "id": "8cb3eca4",
   "metadata": {
    "_kg_hide-output": true,
    "execution": {
     "iopub.execute_input": "2022-01-15T16:43:09.443603Z",
     "iopub.status.busy": "2022-01-15T16:43:09.415252Z",
     "iopub.status.idle": "2022-01-15T16:43:09.497761Z",
     "shell.execute_reply": "2022-01-15T16:43:09.497312Z",
     "shell.execute_reply.started": "2022-01-15T16:28:39.683607Z"
    },
    "id": "8cb3eca4",
    "papermill": {
     "duration": 2.539759,
     "end_time": "2022-01-15T16:43:09.497886",
     "exception": false,
     "start_time": "2022-01-15T16:43:06.958127",
     "status": "completed"
    },
    "tags": []
   },
   "outputs": [],
   "source": [
    "train_dataset = tf.data.Dataset.from_tensor_slices((X_train, Y_train))\n",
    "val_dataset = tf.data.Dataset.from_tensor_slices((X_val, Y_val))\n",
    "test_dataset = tf.data.Dataset.from_tensor_slices((X_test, Y_test))"
   ]
  },
  {
   "cell_type": "code",
   "execution_count": 55,
   "id": "bf17c551",
   "metadata": {
    "execution": {
     "iopub.execute_input": "2022-01-15T16:43:09.613952Z",
     "iopub.status.busy": "2022-01-15T16:43:09.613339Z",
     "iopub.status.idle": "2022-01-15T16:43:09.621103Z",
     "shell.execute_reply": "2022-01-15T16:43:09.621495Z",
     "shell.execute_reply.started": "2022-01-15T16:29:10.048383Z"
    },
    "id": "bf17c551",
    "papermill": {
     "duration": 0.068139,
     "end_time": "2022-01-15T16:43:09.621628",
     "exception": false,
     "start_time": "2022-01-15T16:43:09.553489",
     "status": "completed"
    },
    "tags": []
   },
   "outputs": [],
   "source": [
    "BATCH_SIZE = 132\n",
    "SHUFFLE_BUFFER_SIZE = 132\n",
    "\n",
    "train_dataset = train_dataset.shuffle(SHUFFLE_BUFFER_SIZE).batch(BATCH_SIZE)\n",
    "val_dataset = val_dataset.batch(BATCH_SIZE)\n",
    "test_dataset = test_dataset.batch(BATCH_SIZE)"
   ]
  },
  {
   "cell_type": "code",
   "execution_count": 56,
   "id": "ab70944d",
   "metadata": {
    "execution": {
     "iopub.execute_input": "2022-01-15T16:43:09.737903Z",
     "iopub.status.busy": "2022-01-15T16:43:09.737218Z",
     "iopub.status.idle": "2022-01-15T16:43:10.793695Z",
     "shell.execute_reply": "2022-01-15T16:43:10.793167Z",
     "shell.execute_reply.started": "2022-01-15T16:29:11.034793Z"
    },
    "id": "ab70944d",
    "papermill": {
     "duration": 1.117087,
     "end_time": "2022-01-15T16:43:10.793814",
     "exception": false,
     "start_time": "2022-01-15T16:43:09.676727",
     "status": "completed"
    },
    "tags": []
   },
   "outputs": [
    {
     "name": "stderr",
     "output_type": "stream",
     "text": [
      "c:\\Users\\omar\\AppData\\Local\\Programs\\Python\\Python39\\lib\\site-packages\\keras\\src\\layers\\core\\embedding.py:90: UserWarning: Argument `input_length` is deprecated. Just remove it.\n",
      "  warnings.warn(\n"
     ]
    }
   ],
   "source": [
    "embedding_dim = 300\n",
    "maxlen = 110\n",
    "max_words = 36000\n",
    "num_tags = len(tags)\n",
    "\n",
    "model = tf.keras.models.Sequential([\n",
    "    tf.keras.layers.Embedding(max_words, embedding_dim, input_length=maxlen),\n",
    "    tf.keras.layers.Bidirectional(tf.keras.layers.LSTM(units=100, activation='tanh', return_sequences=True)),\n",
    "    tf.keras.layers.Bidirectional(tf.keras.layers.LSTM(units=100, activation='tanh', return_sequences=True)),\n",
    "    tf.keras.layers.TimeDistributed(tf.keras.layers.Dense(num_tags, activation='softmax'))\n",
    "])"
   ]
  },
  {
   "cell_type": "code",
   "execution_count": 57,
   "id": "cc02496a",
   "metadata": {
    "colab": {
     "base_uri": "https://localhost:8080/"
    },
    "execution": {
     "iopub.execute_input": "2022-01-15T16:43:10.910295Z",
     "iopub.status.busy": "2022-01-15T16:43:10.908437Z",
     "iopub.status.idle": "2022-01-15T16:43:10.915390Z",
     "shell.execute_reply": "2022-01-15T16:43:10.916383Z",
     "shell.execute_reply.started": "2022-01-15T16:29:14.912594Z"
    },
    "id": "cc02496a",
    "outputId": "02d16aa5-ea0c-43c3-a0a7-1ac7d5eba850",
    "papermill": {
     "duration": 0.067884,
     "end_time": "2022-01-15T16:43:10.916556",
     "exception": false,
     "start_time": "2022-01-15T16:43:10.848672",
     "status": "completed"
    },
    "tags": []
   },
   "outputs": [
    {
     "data": {
      "text/html": [
       "<pre style=\"white-space:pre;overflow-x:auto;line-height:normal;font-family:Menlo,'DejaVu Sans Mono',consolas,'Courier New',monospace\"><span style=\"font-weight: bold\">Model: \"sequential\"</span>\n",
       "</pre>\n"
      ],
      "text/plain": [
       "\u001b[1mModel: \"sequential\"\u001b[0m\n"
      ]
     },
     "metadata": {},
     "output_type": "display_data"
    },
    {
     "data": {
      "text/html": [
       "<pre style=\"white-space:pre;overflow-x:auto;line-height:normal;font-family:Menlo,'DejaVu Sans Mono',consolas,'Courier New',monospace\">┏━━━━━━━━━━━━━━━━━━━━━━━━━━━━━━━━━┳━━━━━━━━━━━━━━━━━━━━━━━━┳━━━━━━━━━━━━━━━┓\n",
       "┃<span style=\"font-weight: bold\"> Layer (type)                    </span>┃<span style=\"font-weight: bold\"> Output Shape           </span>┃<span style=\"font-weight: bold\">       Param # </span>┃\n",
       "┡━━━━━━━━━━━━━━━━━━━━━━━━━━━━━━━━━╇━━━━━━━━━━━━━━━━━━━━━━━━╇━━━━━━━━━━━━━━━┩\n",
       "│ embedding (<span style=\"color: #0087ff; text-decoration-color: #0087ff\">Embedding</span>)           │ ?                      │   <span style=\"color: #00af00; text-decoration-color: #00af00\">0</span> (unbuilt) │\n",
       "├─────────────────────────────────┼────────────────────────┼───────────────┤\n",
       "│ bidirectional (<span style=\"color: #0087ff; text-decoration-color: #0087ff\">Bidirectional</span>)   │ ?                      │   <span style=\"color: #00af00; text-decoration-color: #00af00\">0</span> (unbuilt) │\n",
       "├─────────────────────────────────┼────────────────────────┼───────────────┤\n",
       "│ bidirectional_1 (<span style=\"color: #0087ff; text-decoration-color: #0087ff\">Bidirectional</span>) │ ?                      │   <span style=\"color: #00af00; text-decoration-color: #00af00\">0</span> (unbuilt) │\n",
       "├─────────────────────────────────┼────────────────────────┼───────────────┤\n",
       "│ time_distributed                │ ?                      │   <span style=\"color: #00af00; text-decoration-color: #00af00\">0</span> (unbuilt) │\n",
       "│ (<span style=\"color: #0087ff; text-decoration-color: #0087ff\">TimeDistributed</span>)               │                        │               │\n",
       "└─────────────────────────────────┴────────────────────────┴───────────────┘\n",
       "</pre>\n"
      ],
      "text/plain": [
       "┏━━━━━━━━━━━━━━━━━━━━━━━━━━━━━━━━━┳━━━━━━━━━━━━━━━━━━━━━━━━┳━━━━━━━━━━━━━━━┓\n",
       "┃\u001b[1m \u001b[0m\u001b[1mLayer (type)                   \u001b[0m\u001b[1m \u001b[0m┃\u001b[1m \u001b[0m\u001b[1mOutput Shape          \u001b[0m\u001b[1m \u001b[0m┃\u001b[1m \u001b[0m\u001b[1m      Param #\u001b[0m\u001b[1m \u001b[0m┃\n",
       "┡━━━━━━━━━━━━━━━━━━━━━━━━━━━━━━━━━╇━━━━━━━━━━━━━━━━━━━━━━━━╇━━━━━━━━━━━━━━━┩\n",
       "│ embedding (\u001b[38;5;33mEmbedding\u001b[0m)           │ ?                      │   \u001b[38;5;34m0\u001b[0m (unbuilt) │\n",
       "├─────────────────────────────────┼────────────────────────┼───────────────┤\n",
       "│ bidirectional (\u001b[38;5;33mBidirectional\u001b[0m)   │ ?                      │   \u001b[38;5;34m0\u001b[0m (unbuilt) │\n",
       "├─────────────────────────────────┼────────────────────────┼───────────────┤\n",
       "│ bidirectional_1 (\u001b[38;5;33mBidirectional\u001b[0m) │ ?                      │   \u001b[38;5;34m0\u001b[0m (unbuilt) │\n",
       "├─────────────────────────────────┼────────────────────────┼───────────────┤\n",
       "│ time_distributed                │ ?                      │   \u001b[38;5;34m0\u001b[0m (unbuilt) │\n",
       "│ (\u001b[38;5;33mTimeDistributed\u001b[0m)               │                        │               │\n",
       "└─────────────────────────────────┴────────────────────────┴───────────────┘\n"
      ]
     },
     "metadata": {},
     "output_type": "display_data"
    },
    {
     "data": {
      "text/html": [
       "<pre style=\"white-space:pre;overflow-x:auto;line-height:normal;font-family:Menlo,'DejaVu Sans Mono',consolas,'Courier New',monospace\"><span style=\"font-weight: bold\"> Total params: </span><span style=\"color: #00af00; text-decoration-color: #00af00\">0</span> (0.00 B)\n",
       "</pre>\n"
      ],
      "text/plain": [
       "\u001b[1m Total params: \u001b[0m\u001b[38;5;34m0\u001b[0m (0.00 B)\n"
      ]
     },
     "metadata": {},
     "output_type": "display_data"
    },
    {
     "data": {
      "text/html": [
       "<pre style=\"white-space:pre;overflow-x:auto;line-height:normal;font-family:Menlo,'DejaVu Sans Mono',consolas,'Courier New',monospace\"><span style=\"font-weight: bold\"> Trainable params: </span><span style=\"color: #00af00; text-decoration-color: #00af00\">0</span> (0.00 B)\n",
       "</pre>\n"
      ],
      "text/plain": [
       "\u001b[1m Trainable params: \u001b[0m\u001b[38;5;34m0\u001b[0m (0.00 B)\n"
      ]
     },
     "metadata": {},
     "output_type": "display_data"
    },
    {
     "data": {
      "text/html": [
       "<pre style=\"white-space:pre;overflow-x:auto;line-height:normal;font-family:Menlo,'DejaVu Sans Mono',consolas,'Courier New',monospace\"><span style=\"font-weight: bold\"> Non-trainable params: </span><span style=\"color: #00af00; text-decoration-color: #00af00\">0</span> (0.00 B)\n",
       "</pre>\n"
      ],
      "text/plain": [
       "\u001b[1m Non-trainable params: \u001b[0m\u001b[38;5;34m0\u001b[0m (0.00 B)\n"
      ]
     },
     "metadata": {},
     "output_type": "display_data"
    }
   ],
   "source": [
    "model.summary()"
   ]
  },
  {
   "cell_type": "code",
   "execution_count": 58,
   "id": "1b5ed0ee",
   "metadata": {
    "execution": {
     "iopub.execute_input": "2022-01-15T16:43:11.036556Z",
     "iopub.status.busy": "2022-01-15T16:43:11.031848Z",
     "iopub.status.idle": "2022-01-15T16:43:11.042243Z",
     "shell.execute_reply": "2022-01-15T16:43:11.042669Z",
     "shell.execute_reply.started": "2022-01-15T16:29:15.180914Z"
    },
    "id": "1b5ed0ee",
    "papermill": {
     "duration": 0.071105,
     "end_time": "2022-01-15T16:43:11.042805",
     "exception": false,
     "start_time": "2022-01-15T16:43:10.971700",
     "status": "completed"
    },
    "tags": []
   },
   "outputs": [],
   "source": [
    "model.compile(loss='sparse_categorical_crossentropy',\n",
    "              optimizer='adam',\n",
    "              metrics=['accuracy'])"
   ]
  },
  {
   "cell_type": "code",
   "execution_count": 59,
   "id": "7f6e9d01",
   "metadata": {
    "colab": {
     "base_uri": "https://localhost:8080/"
    },
    "execution": {
     "iopub.execute_input": "2022-01-15T16:43:11.156752Z",
     "iopub.status.busy": "2022-01-15T16:43:11.156193Z",
     "iopub.status.idle": "2022-01-15T16:47:16.508438Z",
     "shell.execute_reply": "2022-01-15T16:47:16.508847Z",
     "shell.execute_reply.started": "2022-01-15T16:29:52.842177Z"
    },
    "id": "7f6e9d01",
    "outputId": "b2128a60-4702-4086-e67c-5ed5b3b4e2f6",
    "papermill": {
     "duration": 245.411215,
     "end_time": "2022-01-15T16:47:16.509010",
     "exception": false,
     "start_time": "2022-01-15T16:43:11.097795",
     "status": "completed"
    },
    "tags": []
   },
   "outputs": [
    {
     "name": "stdout",
     "output_type": "stream",
     "text": [
      "Epoch 1/15\n",
      "\u001b[1m255/255\u001b[0m \u001b[32m━━━━━━━━━━━━━━━━━━━━\u001b[0m\u001b[37m\u001b[0m \u001b[1m241s\u001b[0m 886ms/step - accuracy: 0.9466 - loss: 0.2749 - val_accuracy: 0.9713 - val_loss: 0.1030\n",
      "Epoch 2/15\n",
      "\u001b[1m255/255\u001b[0m \u001b[32m━━━━━━━━━━━━━━━━━━━━\u001b[0m\u001b[37m\u001b[0m \u001b[1m220s\u001b[0m 862ms/step - accuracy: 0.9738 - loss: 0.0902 - val_accuracy: 0.9783 - val_loss: 0.0703\n",
      "Epoch 3/15\n",
      "\u001b[1m255/255\u001b[0m \u001b[32m━━━━━━━━━━━━━━━━━━━━\u001b[0m\u001b[37m\u001b[0m \u001b[1m217s\u001b[0m 851ms/step - accuracy: 0.9796 - loss: 0.0635 - val_accuracy: 0.9800 - val_loss: 0.0636\n",
      "Epoch 4/15\n",
      "\u001b[1m255/255\u001b[0m \u001b[32m━━━━━━━━━━━━━━━━━━━━\u001b[0m\u001b[37m\u001b[0m \u001b[1m214s\u001b[0m 839ms/step - accuracy: 0.9826 - loss: 0.0517 - val_accuracy: 0.9809 - val_loss: 0.0635\n",
      "Epoch 5/15\n",
      "\u001b[1m255/255\u001b[0m \u001b[32m━━━━━━━━━━━━━━━━━━━━\u001b[0m\u001b[37m\u001b[0m \u001b[1m214s\u001b[0m 839ms/step - accuracy: 0.9849 - loss: 0.0438 - val_accuracy: 0.9812 - val_loss: 0.0659\n",
      "Epoch 6/15\n",
      "\u001b[1m255/255\u001b[0m \u001b[32m━━━━━━━━━━━━━━━━━━━━\u001b[0m\u001b[37m\u001b[0m \u001b[1m213s\u001b[0m 835ms/step - accuracy: 0.9868 - loss: 0.0382 - val_accuracy: 0.9810 - val_loss: 0.0684\n",
      "Epoch 7/15\n",
      "\u001b[1m255/255\u001b[0m \u001b[32m━━━━━━━━━━━━━━━━━━━━\u001b[0m\u001b[37m\u001b[0m \u001b[1m211s\u001b[0m 827ms/step - accuracy: 0.9884 - loss: 0.0334 - val_accuracy: 0.9814 - val_loss: 0.0715\n",
      "Epoch 8/15\n",
      "\u001b[1m255/255\u001b[0m \u001b[32m━━━━━━━━━━━━━━━━━━━━\u001b[0m\u001b[37m\u001b[0m \u001b[1m211s\u001b[0m 826ms/step - accuracy: 0.9898 - loss: 0.0293 - val_accuracy: 0.9815 - val_loss: 0.0743\n",
      "Epoch 9/15\n",
      "\u001b[1m255/255\u001b[0m \u001b[32m━━━━━━━━━━━━━━━━━━━━\u001b[0m\u001b[37m\u001b[0m \u001b[1m211s\u001b[0m 827ms/step - accuracy: 0.9910 - loss: 0.0257 - val_accuracy: 0.9807 - val_loss: 0.0759\n",
      "Epoch 10/15\n",
      "\u001b[1m255/255\u001b[0m \u001b[32m━━━━━━━━━━━━━━━━━━━━\u001b[0m\u001b[37m\u001b[0m \u001b[1m211s\u001b[0m 828ms/step - accuracy: 0.9920 - loss: 0.0230 - val_accuracy: 0.9796 - val_loss: 0.0783\n",
      "Epoch 11/15\n",
      "\u001b[1m255/255\u001b[0m \u001b[32m━━━━━━━━━━━━━━━━━━━━\u001b[0m\u001b[37m\u001b[0m \u001b[1m210s\u001b[0m 823ms/step - accuracy: 0.9930 - loss: 0.0207 - val_accuracy: 0.9813 - val_loss: 0.0893\n",
      "Epoch 12/15\n",
      "\u001b[1m255/255\u001b[0m \u001b[32m━━━━━━━━━━━━━━━━━━━━\u001b[0m\u001b[37m\u001b[0m \u001b[1m211s\u001b[0m 827ms/step - accuracy: 0.9938 - loss: 0.0180 - val_accuracy: 0.9806 - val_loss: 0.0915\n",
      "Epoch 13/15\n",
      "\u001b[1m255/255\u001b[0m \u001b[32m━━━━━━━━━━━━━━━━━━━━\u001b[0m\u001b[37m\u001b[0m \u001b[1m211s\u001b[0m 827ms/step - accuracy: 0.9949 - loss: 0.0154 - val_accuracy: 0.9805 - val_loss: 0.0962\n",
      "Epoch 14/15\n",
      "\u001b[1m255/255\u001b[0m \u001b[32m━━━━━━━━━━━━━━━━━━━━\u001b[0m\u001b[37m\u001b[0m \u001b[1m209s\u001b[0m 820ms/step - accuracy: 0.9955 - loss: 0.0137 - val_accuracy: 0.9803 - val_loss: 0.1045\n",
      "Epoch 15/15\n",
      "\u001b[1m255/255\u001b[0m \u001b[32m━━━━━━━━━━━━━━━━━━━━\u001b[0m\u001b[37m\u001b[0m \u001b[1m209s\u001b[0m 821ms/step - accuracy: 0.9962 - loss: 0.0116 - val_accuracy: 0.9799 - val_loss: 0.1069\n"
     ]
    }
   ],
   "source": [
    "history = model.fit(train_dataset,\n",
    "                    validation_data=val_dataset,\n",
    "                    epochs=15)"
   ]
  },
  {
   "cell_type": "code",
   "execution_count": 60,
   "id": "857e2faa",
   "metadata": {
    "colab": {
     "base_uri": "https://localhost:8080/"
    },
    "execution": {
     "iopub.execute_input": "2022-01-15T16:47:17.616145Z",
     "iopub.status.busy": "2022-01-15T16:47:17.615309Z",
     "iopub.status.idle": "2022-01-15T16:47:18.632138Z",
     "shell.execute_reply": "2022-01-15T16:47:18.631435Z",
     "shell.execute_reply.started": "2022-01-15T16:31:08.976698Z"
    },
    "id": "857e2faa",
    "outputId": "45e435b8-e467-469a-e790-ef998561fdf0",
    "papermill": {
     "duration": 1.573571,
     "end_time": "2022-01-15T16:47:18.632300",
     "exception": false,
     "start_time": "2022-01-15T16:47:17.058729",
     "status": "completed"
    },
    "tags": []
   },
   "outputs": [
    {
     "name": "stdout",
     "output_type": "stream",
     "text": [
      "\u001b[1m55/55\u001b[0m \u001b[32m━━━━━━━━━━━━━━━━━━━━\u001b[0m\u001b[37m\u001b[0m \u001b[1m8s\u001b[0m 140ms/step - accuracy: 0.9806 - loss: 0.1013\n"
     ]
    },
    {
     "data": {
      "text/plain": [
       "[0.1037314385175705, 0.9802891612052917]"
      ]
     },
     "execution_count": 60,
     "metadata": {},
     "output_type": "execute_result"
    }
   ],
   "source": [
    "model.evaluate(test_dataset)"
   ]
  },
  {
   "cell_type": "code",
   "execution_count": 61,
   "id": "1f094231",
   "metadata": {
    "colab": {
     "base_uri": "https://localhost:8080/",
     "height": 346
    },
    "execution": {
     "iopub.execute_input": "2022-01-15T16:47:19.926834Z",
     "iopub.status.busy": "2022-01-15T16:47:19.912987Z",
     "iopub.status.idle": "2022-01-15T16:47:20.522178Z",
     "shell.execute_reply": "2022-01-15T16:47:20.522617Z",
     "shell.execute_reply.started": "2022-01-15T16:31:09.953262Z"
    },
    "id": "1f094231",
    "outputId": "ff2a4659-2df5-41c7-b738-9eff20de4c75",
    "papermill": {
     "duration": 1.176434,
     "end_time": "2022-01-15T16:47:20.522765",
     "exception": false,
     "start_time": "2022-01-15T16:47:19.346331",
     "status": "completed"
    },
    "tags": []
   },
   "outputs": [
    {
     "data": {
      "image/png": "[encoded data removed]",
      "text/plain": [
       "<Figure size 480x320 with 2 Axes>"
      ]
     },
     "metadata": {},
     "output_type": "display_data"
    }
   ],
   "source": [
    "acc = history.history['accuracy']\n",
    "val_acc = history.history['val_accuracy']\n",
    "\n",
    "loss = history.history['loss']\n",
    "val_loss = history.history['val_loss']\n",
    "\n",
    "epochs = range(1, len(acc) + 1)\n",
    "\n",
    "fig, ax = plt.subplots(1, 2, constrained_layout=True, figsize=(6, 4), dpi=80)\n",
    "\n",
    "ax[0].plot(epochs, acc, label = \"Training Accuracy\", color='darkblue')\n",
    "ax[0].plot(epochs, val_acc, label = \"Validation Accuracy\", color='darkgreen')\n",
    "ax[0].grid(alpha=0.3)\n",
    "ax[0].title.set_text('Training Vs Validation Accuracy')\n",
    "ax[0].fill_between(epochs, acc, val_acc, color='crimson', alpha=0.3)\n",
    "plt.setp(ax[0], xlabel='Epochs')\n",
    "plt.setp(ax[0], ylabel='Accuracy')\n",
    "\n",
    "\n",
    "ax[1].plot(epochs, loss, label = \"Training Loss\", color='darkblue')\n",
    "ax[1].plot(epochs, val_loss, label = \"Validation Loss\", color='darkgreen')\n",
    "ax[1].grid(alpha=0.3)\n",
    "ax[1].title.set_text('Training Vs Validation Loss')\n",
    "ax[1].fill_between(epochs,loss, val_loss, color='crimson', alpha=0.3)\n",
    "plt.setp(ax[1], xlabel='Epochs')\n",
    "plt.setp(ax[1], ylabel='Loss')\n",
    "\n",
    "plt.show()"
   ]
  },
  {
   "cell_type": "code",
   "execution_count": 62,
   "id": "610261a1",
   "metadata": {
    "execution": {
     "iopub.execute_input": "2022-01-15T16:47:21.661629Z",
     "iopub.status.busy": "2022-01-15T16:47:21.660820Z",
     "iopub.status.idle": "2022-01-15T16:47:21.662891Z",
     "shell.execute_reply": "2022-01-15T16:47:21.663335Z",
     "shell.execute_reply.started": "2022-01-15T16:31:10.346288Z"
    },
    "id": "610261a1",
    "papermill": {
     "duration": 0.584696,
     "end_time": "2022-01-15T16:47:21.663465",
     "exception": false,
     "start_time": "2022-01-15T16:47:21.078769",
     "status": "completed"
    },
    "tags": []
   },
   "outputs": [],
   "source": [
    "def make_prediction(model, preprocessed_sentence, id2word, id2tag):\n",
    "\n",
    "    #if preprocessed_sentence.shape() != (1, 110):\n",
    "    preprocessed_sentence = preprocessed_sentence.reshape((1, 110))\n",
    "\n",
    "    # return preprocessed sentence to its orginal form\n",
    "    sentence = preprocessed_sentence[preprocessed_sentence > 0]\n",
    "    word_list = []\n",
    "    for word in list(sentence):\n",
    "        word_list.append(id2word[word])\n",
    "    orginal_sententce = ' '.join(word_list)\n",
    "\n",
    "    len_orginal_sententce = len(word_list)\n",
    "\n",
    "    # make prediction\n",
    "    prediction = model.predict(preprocessed_sentence)\n",
    "    prediction = np.argmax(prediction[0], axis=1)\n",
    "\n",
    "    # return the prediction to its orginal form\n",
    "    prediction = list(prediction)[ : len_orginal_sententce]\n",
    "\n",
    "    pred_tag_list = []\n",
    "    for tag_id in prediction:\n",
    "        pred_tag_list.append(id2tag[tag_id])\n",
    "\n",
    "    return orginal_sententce,  pred_tag_list"
   ]
  },
  {
   "cell_type": "code",
   "execution_count": 63,
   "id": "722a35f9",
   "metadata": {
    "colab": {
     "base_uri": "https://localhost:8080/"
    },
    "execution": {
     "iopub.execute_input": "2022-01-15T16:47:22.828470Z",
     "iopub.status.busy": "2022-01-15T16:47:22.827768Z",
     "iopub.status.idle": "2022-01-15T16:47:24.111992Z",
     "shell.execute_reply": "2022-01-15T16:47:24.110119Z",
     "shell.execute_reply.started": "2022-01-15T16:31:10.355087Z"
    },
    "id": "722a35f9",
    "outputId": "67f28fa0-455c-45fa-c940-79017d1dac4f",
    "papermill": {
     "duration": 1.875514,
     "end_time": "2022-01-15T16:47:24.112187",
     "exception": false,
     "start_time": "2022-01-15T16:47:22.236673",
     "status": "completed"
    },
    "tags": []
   },
   "outputs": [
    {
     "name": "stdout",
     "output_type": "stream",
     "text": [
      "\u001b[1m1/1\u001b[0m \u001b[32m━━━━━━━━━━━━━━━━━━━━\u001b[0m\u001b[37m\u001b[0m \u001b[1m1s\u001b[0m 1s/step\n"
     ]
    }
   ],
   "source": [
    "orginal_sententce,  pred_tag_list = make_prediction(model=model,\n",
    "                                                    preprocessed_sentence=X_test[520],\n",
    "                                                    id2word=id2word,\n",
    "                                                    id2tag=id2tag)"
   ]
  },
  {
   "cell_type": "code",
   "execution_count": 64,
   "id": "a2805cfa",
   "metadata": {
    "colab": {
     "base_uri": "https://localhost:8080/"
    },
    "execution": {
     "iopub.execute_input": "2022-01-15T16:47:25.538434Z",
     "iopub.status.busy": "2022-01-15T16:47:25.536774Z",
     "iopub.status.idle": "2022-01-15T16:47:25.541087Z",
     "shell.execute_reply": "2022-01-15T16:47:25.540221Z",
     "shell.execute_reply.started": "2022-01-15T16:31:11.459079Z"
    },
    "id": "a2805cfa",
    "outputId": "90e71738-7a87-449d-b9a9-6711ccc52224",
    "papermill": {
     "duration": 0.568219,
     "end_time": "2022-01-15T16:47:25.541211",
     "exception": false,
     "start_time": "2022-01-15T16:47:24.972992",
     "status": "completed"
    },
    "tags": []
   },
   "outputs": [
    {
     "name": "stdout",
     "output_type": "stream",
     "text": [
      "tuesday the manhattan new york city prosecutor unsealed a multi count indictment against china based limmt economic and trade company and li fang wei one of the firm 's managers\n"
     ]
    }
   ],
   "source": [
    "print(orginal_sententce)"
   ]
  },
  {
   "cell_type": "code",
   "execution_count": 65,
   "id": "3da42f7d",
   "metadata": {
    "colab": {
     "base_uri": "https://localhost:8080/"
    },
    "execution": {
     "iopub.execute_input": "2022-01-15T16:47:26.679269Z",
     "iopub.status.busy": "2022-01-15T16:47:26.678572Z",
     "iopub.status.idle": "2022-01-15T16:47:26.681500Z",
     "shell.execute_reply": "2022-01-15T16:47:26.682103Z",
     "shell.execute_reply.started": "2022-01-15T16:31:11.465333Z"
    },
    "id": "3da42f7d",
    "outputId": "d1a28e9e-5c04-4d04-841d-ffead768df07",
    "papermill": {
     "duration": 0.57559,
     "end_time": "2022-01-15T16:47:26.682284",
     "exception": false,
     "start_time": "2022-01-15T16:47:26.106694",
     "status": "completed"
    },
    "tags": []
   },
   "outputs": [
    {
     "name": "stdout",
     "output_type": "stream",
     "text": [
      "['B-tim', 'O', 'O', 'B-geo', 'I-geo', 'I-geo', 'I-geo', 'O', 'O', 'O', 'O', 'O', 'O', 'O', 'B-geo', 'B-geo', 'O', 'O', 'O', 'O', 'O', 'O', 'O', 'B-per', 'O', 'O', 'O', 'O', 'O', 'O']\n"
     ]
    }
   ],
   "source": [
    "print(pred_tag_list)"
   ]
  },
  {
   "cell_type": "code",
   "execution_count": 67,
   "id": "5b68d918",
   "metadata": {
    "colab": {
     "base_uri": "https://localhost:8080/"
    },
    "id": "5b68d918",
    "outputId": "9e30ba13-4cc6-4433-cbc5-e4ecdf428ed4"
   },
   "outputs": [
    {
     "name": "stderr",
     "output_type": "stream",
     "text": [
      "WARNING:absl:You are saving your model as an HDF5 file via `model.save()` or `keras.saving.save_model(model)`. This file format is considered legacy. We recommend using instead the native Keras format, e.g. `model.save('my_model.keras')` or `keras.saving.save_model(model, 'my_model.keras')`. \n"
     ]
    }
   ],
   "source": [
    "model.save('Named_Entity_Recognition.keras')"
   ]
  },
  {
   "cell_type": "code",
   "execution_count": null,
   "id": "24a1673c",
   "metadata": {},
   "outputs": [],
   "source": [
    "def make_prediction(model, preprocessed_sentence, id2word, id2tag):\n",
    "\n",
    "    #if preprocessed_sentence.shape() != (1, 110):\n",
    "    preprocessed_sentence = preprocessed_sentence.reshape((1, 110))\n",
    "\n",
    "    # return preprocessed sentence to its orginal form\n",
    "    sentence = preprocessed_sentence[preprocessed_sentence > 0]\n",
    "    word_list = []\n",
    "    for word in list(sentence):\n",
    "        word_list.append(id2word[word])\n",
    "    orginal_sententce = ' '.join(word_list)\n",
    "\n",
    "    len_orginal_sententce = len(word_list)\n",
    "\n",
    "    # make prediction\n",
    "    prediction = model.predict(preprocessed_sentence)\n",
    "    prediction = np.argmax(prediction[0], axis=1)\n",
    "\n",
    "    # return the prediction to its orginal form\n",
    "    prediction = list(prediction)[ : len_orginal_sententce]\n",
    "\n",
    "    pred_tag_list = []\n",
    "    for tag_id in prediction:\n",
    "        pred_tag_list.append(id2tag[tag_id])\n",
    "\n",
    "    return orginal_sententce,  pred_tag_list"
   ]
  },
  {
   "cell_type": "code",
   "execution_count": null,
   "id": "6e299f73",
   "metadata": {},
   "outputs": [],
   "source": [
    "orginal_sententce,  pred_tag_list = make_prediction(model=model,\n",
    "                                                    preprocessed_sentence=X_test[520],\n",
    "                                                    id2word=id2word,\n",
    "                                                    id2tag=id2tag)"
   ]
  },
  {
   "cell_type": "code",
   "execution_count": null,
   "id": "5f17fa6f",
   "metadata": {},
   "outputs": [],
   "source": []
  }
 ],
 "metadata": {
  "accelerator": "GPU",
  "colab": {
   "gpuType": "T4",
   "provenance": []
  },
  "kernelspec": {
   "display_name": "Python 3",
   "language": "python",
   "name": "python3"
  },
  "language_info": {
   "codemirror_mode": {
    "name": "ipython",
    "version": 3
   },
   "file_extension": ".py",
   "mimetype": "text/x-python",
   "name": "python",
   "nbconvert_exporter": "python",
   "pygments_lexer": "ipython3",
   "version": "3.9.13"
  },
  "papermill": {
   "default_parameters": {},
   "duration": 299.705928,
   "end_time": "2022-01-15T16:47:33.287450",
   "environment_variables": {},
   "exception": null,
   "input_path": "__notebook__.ipynb",
   "output_path": "__notebook__.ipynb",
   "parameters": {},
   "start_time": "2022-01-15T16:42:33.581522",
   "version": "2.3.3"
  }
 },
 "nbformat": 4,
 "nbformat_minor": 5
}
